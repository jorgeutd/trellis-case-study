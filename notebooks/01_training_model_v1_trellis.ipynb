{
 "cells": [
  {
   "cell_type": "code",
   "execution_count": null,
   "id": "fe3aea42",
   "metadata": {},
   "outputs": [],
   "source": [
    "################## Install libraries ##################"
   ]
  },
  {
   "cell_type": "code",
   "execution_count": 1,
   "id": "6e74b273",
   "metadata": {},
   "outputs": [],
   "source": [
    "!pip install transformers datasets tensorboard --upgrade --quiet"
   ]
  },
  {
   "cell_type": "code",
   "execution_count": 2,
   "id": "b09f771d",
   "metadata": {},
   "outputs": [],
   "source": [
    "!pip install accelerate --upgrade --quiet"
   ]
  },
  {
   "cell_type": "code",
   "execution_count": 3,
   "id": "68947b3e",
   "metadata": {},
   "outputs": [],
   "source": [
    "!pip install GPUtil --upgrade --quiet"
   ]
  },
  {
   "cell_type": "code",
   "execution_count": null,
   "id": "447c0e5c",
   "metadata": {},
   "outputs": [],
   "source": [
    "########### Import libraries ###########"
   ]
  },
  {
   "cell_type": "code",
   "execution_count": 2,
   "id": "7367ffbf",
   "metadata": {},
   "outputs": [],
   "source": [
    "import numpy as np\n",
    "import pandas as pd\n",
    "import boto3\n",
    "import json\n",
    "import os\n",
    "from pandas import option_context\n",
    "from typing import Union, Dict, List, Optional\n",
    "import re\n",
    "import logging\n",
    "from tqdm import tqdm\n",
    "import time\n",
    "from datetime import datetime, timedelta\n",
    "import torch"
   ]
  },
  {
   "cell_type": "code",
   "execution_count": 5,
   "id": "bd17c72f",
   "metadata": {},
   "outputs": [
    {
     "name": "stdout",
     "output_type": "stream",
     "text": [
      "sagemaker.config INFO - Not applying SDK defaults from location: /etc/xdg/sagemaker/config.yaml\n",
      "sagemaker.config INFO - Not applying SDK defaults from location: /home/ec2-user/.config/sagemaker/config.yaml\n"
     ]
    }
   ],
   "source": [
    "from datasets import Dataset, ClassLabel, DatasetDict\n",
    "from transformers import (\n",
    "    AutoModelForSequenceClassification,\n",
    "    AutoTokenizer,\n",
    "    TrainingArguments,\n",
    "    Trainer,\n",
    "    DataCollatorWithPadding,\n",
    ")\n",
    "from huggingface_hub import HfFolder, notebook_login\n",
    "import numpy as np\n",
    "from datasets import load_metric\n",
    "import sagemaker\n",
    "from sagemaker.huggingface import HuggingFace\n",
    "from sagemaker.pytorch import PyTorchModel"
   ]
  },
  {
   "cell_type": "code",
   "execution_count": 6,
   "id": "8a968e2a",
   "metadata": {},
   "outputs": [],
   "source": [
    "# Set up logging\n",
    "logging.basicConfig(level=logging.INFO, format='%(asctime)s - %(levelname)s - %(message)s')"
   ]
  },
  {
   "cell_type": "code",
   "execution_count": 7,
   "id": "ca14520c",
   "metadata": {},
   "outputs": [],
   "source": [
    "########### Sagemaker Session Validate roles ###########"
   ]
  },
  {
   "cell_type": "code",
   "execution_count": 8,
   "id": "c1c929a5",
   "metadata": {},
   "outputs": [
    {
     "name": "stderr",
     "output_type": "stream",
     "text": [
      "2024-05-17 17:47:24,835 - INFO - Found credentials from IAM Role: BaseNotebookInstanceEc2InstanceRole\n",
      "2024-05-17 17:47:25,287 - INFO - Found credentials from IAM Role: BaseNotebookInstanceEc2InstanceRole\n",
      "2024-05-17 17:47:25,512 - INFO - Found credentials from IAM Role: BaseNotebookInstanceEc2InstanceRole\n"
     ]
    },
    {
     "name": "stdout",
     "output_type": "stream",
     "text": [
      "sagemaker role arn: arn:aws:iam::730335220874:role/service-role/AmazonSageMaker-ExecutionRole-20240131T123268\n",
      "sagemaker bucket: sagemaker-us-east-1-730335220874\n",
      "sagemaker session region: us-east-1\n"
     ]
    }
   ],
   "source": [
    "import sagemaker\n",
    "sess = sagemaker.Session()\n",
    "# sagemaker session bucket -> used for uploading data, models and logs\n",
    "# sagemaker will automatically create this bucket if it not exists\n",
    "sagemaker_session_bucket=None\n",
    "if sagemaker_session_bucket is None and sess is not None:\n",
    "    # set to default bucket if a bucket name is not given\n",
    "    sagemaker_session_bucket = sess.default_bucket()\n",
    "\n",
    "try:\n",
    "    role = sagemaker.get_execution_role()\n",
    "except ValueError:\n",
    "    iam = boto3.client('iam')\n",
    "    role = iam.get_role(RoleName='sagemaker_execution_role')['Role']['Arn']\n",
    "\n",
    "sess = sagemaker.Session(default_bucket=sagemaker_session_bucket)\n",
    "\n",
    "print(f\"sagemaker role arn: {role}\")\n",
    "print(f\"sagemaker bucket: {sess.default_bucket()}\")\n",
    "print(f\"sagemaker session region: {sess.boto_region_name}\")\n"
   ]
  },
  {
   "cell_type": "code",
   "execution_count": 9,
   "id": "c9e06d2a",
   "metadata": {},
   "outputs": [],
   "source": [
    "####### Load data from local folder and process and fine tune model ######"
   ]
  },
  {
   "cell_type": "code",
   "execution_count": 10,
   "id": "009309ca",
   "metadata": {},
   "outputs": [
    {
     "name": "stderr",
     "output_type": "stream",
     "text": [
      "2024-05-17 17:47:25,870 - INFO - DataFrame loaded from training-data/training_data.csv_2024-05-17.csv\n"
     ]
    },
    {
     "data": {
      "text/html": [
       "<div>\n",
       "<style scoped>\n",
       "    .dataframe tbody tr th:only-of-type {\n",
       "        vertical-align: middle;\n",
       "    }\n",
       "\n",
       "    .dataframe tbody tr th {\n",
       "        vertical-align: top;\n",
       "    }\n",
       "\n",
       "    .dataframe thead th {\n",
       "        text-align: right;\n",
       "    }\n",
       "</style>\n",
       "<table border=\"1\" class=\"dataframe\">\n",
       "  <thead>\n",
       "    <tr style=\"text-align: right;\">\n",
       "      <th></th>\n",
       "      <th>text</th>\n",
       "      <th>label</th>\n",
       "      <th>encoded_label</th>\n",
       "    </tr>\n",
       "  </thead>\n",
       "  <tbody>\n",
       "    <tr>\n",
       "      <th>0</th>\n",
       "      <td>Lufthansa flies back to profit German airline Lufthansa has returned to profit in 2004 after posting huge losses in 2003. In a preliminary report, the airline announced net profits of 400m euros (...</td>\n",
       "      <td>business</td>\n",
       "      <td>0</td>\n",
       "    </tr>\n",
       "  </tbody>\n",
       "</table>\n",
       "</div>"
      ],
      "text/plain": [
       "                                                                                                                                                                                                      text  \\\n",
       "0  Lufthansa flies back to profit German airline Lufthansa has returned to profit in 2004 after posting huge losses in 2003. In a preliminary report, the airline announced net profits of 400m euros (...   \n",
       "\n",
       "      label  encoded_label  \n",
       "0  business              0  "
      ]
     },
     "metadata": {},
     "output_type": "display_data"
    }
   ],
   "source": [
    "def load_dataframe(folder_name: str, file_name: str) -> Optional[pd.DataFrame]:\n",
    "    \"\"\"\n",
    "    Loads a DataFrame from a CSV file in the specified folder.\n",
    "\n",
    "    Args:\n",
    "        folder_name (str): The name of the folder containing the CSV file.\n",
    "        file_name (str): The name of the CSV file to load.\n",
    "\n",
    "    Returns:\n",
    "        pd.DataFrame: The loaded DataFrame, or None if an error occurred.\n",
    "    \"\"\"\n",
    "    try:\n",
    "        # Define the file path\n",
    "        file_path = os.path.join(folder_name, file_name)\n",
    "        \n",
    "        # Check if the file exists\n",
    "        if not os.path.exists(file_path):\n",
    "            raise FileNotFoundError(f\"File '{file_path}' not found.\")\n",
    "        \n",
    "        # Load the DataFrame from the CSV file\n",
    "        df = pd.read_csv(file_path)\n",
    "        logging.info(f\"DataFrame loaded from {file_path}\")\n",
    "        \n",
    "        return df\n",
    "    except Exception as e:\n",
    "        logging.error(f\"An error occurred while loading the DataFrame: {e}\")\n",
    "        return None\n",
    "\n",
    "# call function\n",
    "# Assuming the file was saved with the current date appended\n",
    "folder_name = 'training-data'\n",
    "file_name = 'training_data.csv_2024-05-17.csv'\n",
    "\n",
    "df= load_dataframe(folder_name, file_name)\n",
    "\n",
    "if df is not None:\n",
    "    from pandas import option_context\n",
    "    with option_context('display.max_rows', None, 'display.max_colwidth', 200, 'display.max_columns', 80):\n",
    "        display(df.head(1))\n",
    "else:\n",
    "    logging.error(\"The DataFrame could not be loaded.\")"
   ]
  },
  {
   "cell_type": "code",
   "execution_count": 11,
   "id": "6bb03779",
   "metadata": {},
   "outputs": [
    {
     "data": {
      "text/html": [
       "<div>\n",
       "<style scoped>\n",
       "    .dataframe tbody tr th:only-of-type {\n",
       "        vertical-align: middle;\n",
       "    }\n",
       "\n",
       "    .dataframe tbody tr th {\n",
       "        vertical-align: top;\n",
       "    }\n",
       "\n",
       "    .dataframe thead th {\n",
       "        text-align: right;\n",
       "    }\n",
       "</style>\n",
       "<table border=\"1\" class=\"dataframe\">\n",
       "  <thead>\n",
       "    <tr style=\"text-align: right;\">\n",
       "      <th></th>\n",
       "      <th>text</th>\n",
       "      <th>label</th>\n",
       "      <th>encoded_label</th>\n",
       "    </tr>\n",
       "  </thead>\n",
       "  <tbody>\n",
       "    <tr>\n",
       "      <th>0</th>\n",
       "      <td>Lufthansa flies back to profit German airline Lufthansa has returned to profit in 2004 after posting huge losses in 2003. In a preliminary report, the airline announced net profits of 400m euros ($527.61m; £274.73m), compared with a loss of 984m euros in 2003. Operating profits were at 380m euro...</td>\n",
       "      <td>business</td>\n",
       "      <td>0</td>\n",
       "    </tr>\n",
       "    <tr>\n",
       "      <th>1</th>\n",
       "      <td>Winn-Dixie files for bankruptcy US supermarket group Winn-Dixie has filed for bankruptcy protection after succumbing to stiff competition in a market dominated by Wal-Mart. Winn-Dixie, once among the most profitable of US grocers, said Chapter 11 protection would enable it to successfully restru...</td>\n",
       "      <td>business</td>\n",
       "      <td>0</td>\n",
       "    </tr>\n",
       "    <tr>\n",
       "      <th>2</th>\n",
       "      <td>US economy still growing says Fed Most areas of the US saw their economy continue to expand in December and early January, the US Federal Reserve said in its latest Beige Book report. Of the 12 US regions it identifies for the study, 11 showed stronger economic growth, with only the Cleveland ar...</td>\n",
       "      <td>business</td>\n",
       "      <td>0</td>\n",
       "    </tr>\n",
       "    <tr>\n",
       "      <th>3</th>\n",
       "      <td>Saab to build Cadillacs in Sweden General Motors, the world's largest car maker, has confirmed that it will build a new medium-sized Cadillac BLS at its loss-making Saab factory in Sweden. The car, unveiled at the Geneva motor show, is intended to compete in the medium-sized luxury car market. I...</td>\n",
       "      <td>business</td>\n",
       "      <td>0</td>\n",
       "    </tr>\n",
       "    <tr>\n",
       "      <th>4</th>\n",
       "      <td>Bank voted 8-1 for no rate change The decision to keep interest rates on hold at 4.75% earlier this month was passed 8-1 by the Bank of England's rate-setting body, minutes have shown. One member of the Bank's Monetary Policy Committee (MPC) - Paul Tucker - voted to raise rates to 5%. The news s...</td>\n",
       "      <td>business</td>\n",
       "      <td>0</td>\n",
       "    </tr>\n",
       "  </tbody>\n",
       "</table>\n",
       "</div>"
      ],
      "text/plain": [
       "                                                                                                                                                                                                                                                                                                          text  \\\n",
       "0  Lufthansa flies back to profit German airline Lufthansa has returned to profit in 2004 after posting huge losses in 2003. In a preliminary report, the airline announced net profits of 400m euros ($527.61m; £274.73m), compared with a loss of 984m euros in 2003. Operating profits were at 380m euro...   \n",
       "1  Winn-Dixie files for bankruptcy US supermarket group Winn-Dixie has filed for bankruptcy protection after succumbing to stiff competition in a market dominated by Wal-Mart. Winn-Dixie, once among the most profitable of US grocers, said Chapter 11 protection would enable it to successfully restru...   \n",
       "2  US economy still growing says Fed Most areas of the US saw their economy continue to expand in December and early January, the US Federal Reserve said in its latest Beige Book report. Of the 12 US regions it identifies for the study, 11 showed stronger economic growth, with only the Cleveland ar...   \n",
       "3  Saab to build Cadillacs in Sweden General Motors, the world's largest car maker, has confirmed that it will build a new medium-sized Cadillac BLS at its loss-making Saab factory in Sweden. The car, unveiled at the Geneva motor show, is intended to compete in the medium-sized luxury car market. I...   \n",
       "4  Bank voted 8-1 for no rate change The decision to keep interest rates on hold at 4.75% earlier this month was passed 8-1 by the Bank of England's rate-setting body, minutes have shown. One member of the Bank's Monetary Policy Committee (MPC) - Paul Tucker - voted to raise rates to 5%. The news s...   \n",
       "\n",
       "      label  encoded_label  \n",
       "0  business              0  \n",
       "1  business              0  \n",
       "2  business              0  \n",
       "3  business              0  \n",
       "4  business              0  "
      ]
     },
     "metadata": {},
     "output_type": "display_data"
    }
   ],
   "source": [
    "from pandas import option_context\n",
    "\n",
    "with option_context('display.max_rows', None,'display.max_colwidth',300,'display.max_columns',80):\n",
    "        display(df.head(5))"
   ]
  },
  {
   "cell_type": "code",
   "execution_count": 12,
   "id": "55cbbdc0",
   "metadata": {},
   "outputs": [
    {
     "name": "stdout",
     "output_type": "stream",
     "text": [
      "<class 'pandas.core.frame.DataFrame'>\n",
      "RangeIndex: 915 entries, 0 to 914\n",
      "Data columns (total 3 columns):\n",
      " #   Column         Non-Null Count  Dtype \n",
      "---  ------         --------------  ----- \n",
      " 0   text           915 non-null    object\n",
      " 1   label          915 non-null    object\n",
      " 2   encoded_label  915 non-null    int64 \n",
      "dtypes: int64(1), object(2)\n",
      "memory usage: 21.6+ KB\n"
     ]
    }
   ],
   "source": [
    "df.info()"
   ]
  },
  {
   "cell_type": "code",
   "execution_count": 13,
   "id": "76d8c7bc",
   "metadata": {},
   "outputs": [],
   "source": [
    "##### Dataset & Pre-processing #####"
   ]
  },
  {
   "cell_type": "code",
   "execution_count": 14,
   "id": "a05910db",
   "metadata": {},
   "outputs": [
    {
     "data": {
      "application/vnd.jupyter.widget-view+json": {
       "model_id": "979cde036b33414fa325f081605743c6",
       "version_major": 2,
       "version_minor": 0
      },
      "text/plain": [
       "Casting the dataset:   0%|          | 0/915 [00:00<?, ? examples/s]"
      ]
     },
     "metadata": {},
     "output_type": "display_data"
    },
    {
     "name": "stderr",
     "output_type": "stream",
     "text": [
      "2024-05-17 18:01:15,781 - INFO - Dataset preprocessed and split successfully\n"
     ]
    }
   ],
   "source": [
    "def preprocess_dataset(df: pd.DataFrame) -> Dataset:\n",
    "    \"\"\"\n",
    "    Preprocesses the dataset by converting the DataFrame to a Dataset object\n",
    "    and applying necessary transformations.\n",
    "\n",
    "    Args:\n",
    "        df (pd.DataFrame): The input DataFrame.\n",
    "\n",
    "    Returns:\n",
    "        Dataset: The preprocessed dataset.\n",
    "    \"\"\"\n",
    "    try:\n",
    "        # Convert DataFrame to Dataset\n",
    "        dataset = Dataset.from_pandas(df[[\"text\", \"encoded_label\"]])\n",
    "        \n",
    "        # Map labels to ClassLabel\n",
    "        class_names = ['business', 'entertainment', 'food', 'graphics', 'historical', 'medical',\n",
    "                       'other','politics', 'space', 'sport', 'technologie']\n",
    "        class_feature = ClassLabel(names=class_names)\n",
    "        dataset = dataset.cast_column(\"encoded_label\", class_feature)\n",
    "        \n",
    "        # Rename target column to labels\n",
    "        dataset = dataset.rename_column(\"encoded_label\", \"labels\")\n",
    "        \n",
    "        # Split the dataset into train, validation, and test sets\n",
    "        dataset = dataset.train_test_split(test_size=0.2, seed=42)\n",
    "        train_val_dataset = dataset[\"train\"].train_test_split(test_size=0.1, seed=42)\n",
    "        dataset = DatasetDict({\n",
    "            \"train\": train_val_dataset[\"train\"],\n",
    "            \"validation\": train_val_dataset[\"test\"],\n",
    "            \"test\": dataset[\"test\"]\n",
    "        })\n",
    "        \n",
    "        logging.info(\"Dataset preprocessed and split successfully\")\n",
    "        return dataset\n",
    "    except Exception as e:\n",
    "        logging.error(f\"An error occurred during dataset preprocessing: {e}\")\n",
    "        raise\n",
    "\n",
    "# Preprocess the dataset\n",
    "dataset = preprocess_dataset(df)"
   ]
  },
  {
   "cell_type": "code",
   "execution_count": 15,
   "id": "52f166c3",
   "metadata": {},
   "outputs": [
    {
     "data": {
      "text/plain": [
       "DatasetDict({\n",
       "    train: Dataset({\n",
       "        features: ['text', 'labels'],\n",
       "        num_rows: 658\n",
       "    })\n",
       "    validation: Dataset({\n",
       "        features: ['text', 'labels'],\n",
       "        num_rows: 74\n",
       "    })\n",
       "    test: Dataset({\n",
       "        features: ['text', 'labels'],\n",
       "        num_rows: 183\n",
       "    })\n",
       "})"
      ]
     },
     "execution_count": 15,
     "metadata": {},
     "output_type": "execute_result"
    }
   ],
   "source": [
    "dataset"
   ]
  },
  {
   "cell_type": "code",
   "execution_count": 16,
   "id": "f875d1cf",
   "metadata": {},
   "outputs": [
    {
     "data": {
      "text/plain": [
       "{'text': 'Comic Morris returns with sitcom Comedian Chris Morris, who created controversial TV show Brass Eye, is to return to screens with a new sitcom about a spoof London media worker. Morris will direct and co-write Nathan Barley - a character from cult website TV Go Home - for Channel 4. It is a send-up of the stereotypical \"cool\" metropolitan media scene, with Nicholas Burns in the title role. A Brass Eye satire of the media handling of paedophilia sparked 2,500 complaints in 2001. Nathan Barley will be \"a character-driven comedy\", according to Charlie Brooker, who created TV Go Home in 1999 and has co-written the series. Barley is described as a \"webmaster, guerrilla film-maker, screenwriter, DJ and in his own words, a \\'self-facilitating media node\". The story will also feature Dan Ashcroft, a style magazine columnist, and his sister Claire, a film-maker who hates the \"cool\" scene. As well as Brass Eye, Morris was behind another news show satire, The Day Today, and dark sketch comedy Jam. The new show is expected to begin in February.',\n",
       " 'labels': 1}"
      ]
     },
     "execution_count": 16,
     "metadata": {},
     "output_type": "execute_result"
    }
   ],
   "source": [
    "dataset[\"train\"][0]"
   ]
  },
  {
   "cell_type": "code",
   "execution_count": 17,
   "id": "e2a47a94",
   "metadata": {},
   "outputs": [],
   "source": [
    "# Tokenize the dataset"
   ]
  },
  {
   "cell_type": "code",
   "execution_count": 18,
   "id": "18da1f98",
   "metadata": {},
   "outputs": [],
   "source": [
    "model_id = \"distilbert-base-uncased\"\n",
    "\n",
    "# name for our repository on the hub\n",
    "model_name = model_id.split(\"/\")[-1] if \"/\" in model_id else model_id\n",
    "repo_name = f\"{model_name}\""
   ]
  },
  {
   "cell_type": "code",
   "execution_count": 19,
   "id": "cd069e72",
   "metadata": {},
   "outputs": [
    {
     "data": {
      "application/vnd.jupyter.widget-view+json": {
       "model_id": "b3e4683e733a4d4da24f64ffdd17a11c",
       "version_major": 2,
       "version_minor": 0
      },
      "text/plain": [
       "tokenizer_config.json:   0%|          | 0.00/48.0 [00:00<?, ?B/s]"
      ]
     },
     "metadata": {},
     "output_type": "display_data"
    },
    {
     "name": "stderr",
     "output_type": "stream",
     "text": [
      "/home/ec2-user/anaconda3/envs/pytorch_p310/lib/python3.10/site-packages/huggingface_hub/file_download.py:1132: FutureWarning: `resume_download` is deprecated and will be removed in version 1.0.0. Downloads always resume when possible. If you want to force a new download, use `force_download=True`.\n",
      "  warnings.warn(\n"
     ]
    },
    {
     "data": {
      "application/vnd.jupyter.widget-view+json": {
       "model_id": "82780bedbfd84f5a9a922e6a47f56ee7",
       "version_major": 2,
       "version_minor": 0
      },
      "text/plain": [
       "config.json:   0%|          | 0.00/483 [00:00<?, ?B/s]"
      ]
     },
     "metadata": {},
     "output_type": "display_data"
    },
    {
     "data": {
      "application/vnd.jupyter.widget-view+json": {
       "model_id": "e2eb68e6fb1f4e1a8e60a9e7f1945061",
       "version_major": 2,
       "version_minor": 0
      },
      "text/plain": [
       "vocab.txt:   0%|          | 0.00/232k [00:00<?, ?B/s]"
      ]
     },
     "metadata": {},
     "output_type": "display_data"
    },
    {
     "data": {
      "application/vnd.jupyter.widget-view+json": {
       "model_id": "dc82d23f058a4ec397a5f2bd257d26a0",
       "version_major": 2,
       "version_minor": 0
      },
      "text/plain": [
       "tokenizer.json:   0%|          | 0.00/466k [00:00<?, ?B/s]"
      ]
     },
     "metadata": {},
     "output_type": "display_data"
    }
   ],
   "source": [
    "# Load the tokenizer\n",
    "model_id = \"distilbert-base-uncased\"\n",
    "tokenizer = AutoTokenizer.from_pretrained(model_id)"
   ]
  },
  {
   "cell_type": "code",
   "execution_count": 20,
   "id": "81c2b163",
   "metadata": {},
   "outputs": [
    {
     "data": {
      "application/vnd.jupyter.widget-view+json": {
       "model_id": "c95973bb7511406c8170780c222e5000",
       "version_major": 2,
       "version_minor": 0
      },
      "text/plain": [
       "Map:   0%|          | 0/658 [00:00<?, ? examples/s]"
      ]
     },
     "metadata": {},
     "output_type": "display_data"
    },
    {
     "data": {
      "application/vnd.jupyter.widget-view+json": {
       "model_id": "d5af48531042432aa2a4f5c83a1e0509",
       "version_major": 2,
       "version_minor": 0
      },
      "text/plain": [
       "Map:   0%|          | 0/74 [00:00<?, ? examples/s]"
      ]
     },
     "metadata": {},
     "output_type": "display_data"
    },
    {
     "data": {
      "application/vnd.jupyter.widget-view+json": {
       "model_id": "2f89ab449b3c4f5a9e82dde91cd552fe",
       "version_major": 2,
       "version_minor": 0
      },
      "text/plain": [
       "Map:   0%|          | 0/183 [00:00<?, ? examples/s]"
      ]
     },
     "metadata": {},
     "output_type": "display_data"
    },
    {
     "name": "stderr",
     "output_type": "stream",
     "text": [
      "2024-05-17 18:01:23,944 - INFO - Dataset tokenized successfully\n"
     ]
    }
   ],
   "source": [
    "def tokenize_dataset(dataset: DatasetDict, tokenizer: AutoTokenizer) -> DatasetDict:\n",
    "    \"\"\"\n",
    "    Tokenizes the dataset using the specified tokenizer.\n",
    "\n",
    "    Args:\n",
    "        dataset (DatasetDict): The input dataset.\n",
    "        tokenizer (AutoTokenizer): The tokenizer to use for tokenization.\n",
    "\n",
    "    Returns:\n",
    "        DatasetDict: The tokenized dataset.\n",
    "    \"\"\"\n",
    "    try:\n",
    "        def tokenize(examples):\n",
    "            return tokenizer(examples[\"text\"], truncation=True, max_length=512)\n",
    "        \n",
    "        tokenized_dataset = dataset.map(tokenize, batched=True, remove_columns=[\"text\"])\n",
    "        logging.info(\"Dataset tokenized successfully\")\n",
    "        return tokenized_dataset\n",
    "    except Exception as e:\n",
    "        logging.error(f\"An error occurred during dataset tokenization: {e}\")\n",
    "        raise\n",
    "        \n",
    "# Tokenize the dataset\n",
    "tokenized_dataset = tokenize_dataset(dataset, tokenizer)"
   ]
  },
  {
   "cell_type": "code",
   "execution_count": 21,
   "id": "31f1eabe",
   "metadata": {},
   "outputs": [
    {
     "data": {
      "text/plain": [
       "DatasetDict({\n",
       "    train: Dataset({\n",
       "        features: ['labels', 'input_ids', 'attention_mask'],\n",
       "        num_rows: 658\n",
       "    })\n",
       "    validation: Dataset({\n",
       "        features: ['labels', 'input_ids', 'attention_mask'],\n",
       "        num_rows: 74\n",
       "    })\n",
       "    test: Dataset({\n",
       "        features: ['labels', 'input_ids', 'attention_mask'],\n",
       "        num_rows: 183\n",
       "    })\n",
       "})"
      ]
     },
     "execution_count": 21,
     "metadata": {},
     "output_type": "execute_result"
    }
   ],
   "source": [
    "tokenized_dataset"
   ]
  },
  {
   "cell_type": "code",
   "execution_count": 22,
   "id": "836fb72d",
   "metadata": {},
   "outputs": [
    {
     "data": {
      "text/plain": [
       "{'labels': 1,\n",
       " 'input_ids': [101,\n",
       "  5021,\n",
       "  6384,\n",
       "  5651,\n",
       "  2007,\n",
       "  13130,\n",
       "  9971,\n",
       "  3782,\n",
       "  6384,\n",
       "  1010,\n",
       "  2040,\n",
       "  2580,\n",
       "  6801,\n",
       "  2694,\n",
       "  2265,\n",
       "  8782,\n",
       "  3239,\n",
       "  1010,\n",
       "  2003,\n",
       "  2000,\n",
       "  2709,\n",
       "  2000,\n",
       "  12117,\n",
       "  2007,\n",
       "  1037,\n",
       "  2047,\n",
       "  13130,\n",
       "  2055,\n",
       "  1037,\n",
       "  11867,\n",
       "  21511,\n",
       "  2414,\n",
       "  2865,\n",
       "  7309,\n",
       "  1012,\n",
       "  6384,\n",
       "  2097,\n",
       "  3622,\n",
       "  1998,\n",
       "  2522,\n",
       "  1011,\n",
       "  4339,\n",
       "  7150,\n",
       "  21569,\n",
       "  1011,\n",
       "  1037,\n",
       "  2839,\n",
       "  2013,\n",
       "  8754,\n",
       "  4037,\n",
       "  2694,\n",
       "  2175,\n",
       "  2188,\n",
       "  1011,\n",
       "  2005,\n",
       "  3149,\n",
       "  1018,\n",
       "  1012,\n",
       "  2009,\n",
       "  2003,\n",
       "  1037,\n",
       "  4604,\n",
       "  1011,\n",
       "  2039,\n",
       "  1997,\n",
       "  1996,\n",
       "  12991,\n",
       "  27086,\n",
       "  1000,\n",
       "  4658,\n",
       "  1000,\n",
       "  4956,\n",
       "  2865,\n",
       "  3496,\n",
       "  1010,\n",
       "  2007,\n",
       "  6141,\n",
       "  7641,\n",
       "  1999,\n",
       "  1996,\n",
       "  2516,\n",
       "  2535,\n",
       "  1012,\n",
       "  1037,\n",
       "  8782,\n",
       "  3239,\n",
       "  18312,\n",
       "  1997,\n",
       "  1996,\n",
       "  2865,\n",
       "  8304,\n",
       "  1997,\n",
       "  6643,\n",
       "  26010,\n",
       "  21850,\n",
       "  6632,\n",
       "  13977,\n",
       "  1016,\n",
       "  1010,\n",
       "  3156,\n",
       "  10821,\n",
       "  1999,\n",
       "  2541,\n",
       "  1012,\n",
       "  7150,\n",
       "  21569,\n",
       "  2097,\n",
       "  2022,\n",
       "  1000,\n",
       "  1037,\n",
       "  2839,\n",
       "  1011,\n",
       "  5533,\n",
       "  4038,\n",
       "  1000,\n",
       "  1010,\n",
       "  2429,\n",
       "  2000,\n",
       "  4918,\n",
       "  11535,\n",
       "  2099,\n",
       "  1010,\n",
       "  2040,\n",
       "  2580,\n",
       "  2694,\n",
       "  2175,\n",
       "  2188,\n",
       "  1999,\n",
       "  2639,\n",
       "  1998,\n",
       "  2038,\n",
       "  2522,\n",
       "  1011,\n",
       "  2517,\n",
       "  1996,\n",
       "  2186,\n",
       "  1012,\n",
       "  21569,\n",
       "  2003,\n",
       "  2649,\n",
       "  2004,\n",
       "  1037,\n",
       "  1000,\n",
       "  4773,\n",
       "  8706,\n",
       "  1010,\n",
       "  15722,\n",
       "  2143,\n",
       "  1011,\n",
       "  9338,\n",
       "  1010,\n",
       "  11167,\n",
       "  1010,\n",
       "  6520,\n",
       "  1998,\n",
       "  1999,\n",
       "  2010,\n",
       "  2219,\n",
       "  2616,\n",
       "  1010,\n",
       "  1037,\n",
       "  1005,\n",
       "  2969,\n",
       "  1011,\n",
       "  25505,\n",
       "  2865,\n",
       "  13045,\n",
       "  1000,\n",
       "  1012,\n",
       "  1996,\n",
       "  2466,\n",
       "  2097,\n",
       "  2036,\n",
       "  3444,\n",
       "  4907,\n",
       "  6683,\n",
       "  14716,\n",
       "  1010,\n",
       "  1037,\n",
       "  2806,\n",
       "  2932,\n",
       "  13317,\n",
       "  1010,\n",
       "  1998,\n",
       "  2010,\n",
       "  2905,\n",
       "  6249,\n",
       "  1010,\n",
       "  1037,\n",
       "  2143,\n",
       "  1011,\n",
       "  9338,\n",
       "  2040,\n",
       "  16424,\n",
       "  1996,\n",
       "  1000,\n",
       "  4658,\n",
       "  1000,\n",
       "  3496,\n",
       "  1012,\n",
       "  2004,\n",
       "  2092,\n",
       "  2004,\n",
       "  8782,\n",
       "  3239,\n",
       "  1010,\n",
       "  6384,\n",
       "  2001,\n",
       "  2369,\n",
       "  2178,\n",
       "  2739,\n",
       "  2265,\n",
       "  18312,\n",
       "  1010,\n",
       "  1996,\n",
       "  2154,\n",
       "  2651,\n",
       "  1010,\n",
       "  1998,\n",
       "  2601,\n",
       "  11080,\n",
       "  4038,\n",
       "  9389,\n",
       "  1012,\n",
       "  1996,\n",
       "  2047,\n",
       "  2265,\n",
       "  2003,\n",
       "  3517,\n",
       "  2000,\n",
       "  4088,\n",
       "  1999,\n",
       "  2337,\n",
       "  1012,\n",
       "  102],\n",
       " 'attention_mask': [1,\n",
       "  1,\n",
       "  1,\n",
       "  1,\n",
       "  1,\n",
       "  1,\n",
       "  1,\n",
       "  1,\n",
       "  1,\n",
       "  1,\n",
       "  1,\n",
       "  1,\n",
       "  1,\n",
       "  1,\n",
       "  1,\n",
       "  1,\n",
       "  1,\n",
       "  1,\n",
       "  1,\n",
       "  1,\n",
       "  1,\n",
       "  1,\n",
       "  1,\n",
       "  1,\n",
       "  1,\n",
       "  1,\n",
       "  1,\n",
       "  1,\n",
       "  1,\n",
       "  1,\n",
       "  1,\n",
       "  1,\n",
       "  1,\n",
       "  1,\n",
       "  1,\n",
       "  1,\n",
       "  1,\n",
       "  1,\n",
       "  1,\n",
       "  1,\n",
       "  1,\n",
       "  1,\n",
       "  1,\n",
       "  1,\n",
       "  1,\n",
       "  1,\n",
       "  1,\n",
       "  1,\n",
       "  1,\n",
       "  1,\n",
       "  1,\n",
       "  1,\n",
       "  1,\n",
       "  1,\n",
       "  1,\n",
       "  1,\n",
       "  1,\n",
       "  1,\n",
       "  1,\n",
       "  1,\n",
       "  1,\n",
       "  1,\n",
       "  1,\n",
       "  1,\n",
       "  1,\n",
       "  1,\n",
       "  1,\n",
       "  1,\n",
       "  1,\n",
       "  1,\n",
       "  1,\n",
       "  1,\n",
       "  1,\n",
       "  1,\n",
       "  1,\n",
       "  1,\n",
       "  1,\n",
       "  1,\n",
       "  1,\n",
       "  1,\n",
       "  1,\n",
       "  1,\n",
       "  1,\n",
       "  1,\n",
       "  1,\n",
       "  1,\n",
       "  1,\n",
       "  1,\n",
       "  1,\n",
       "  1,\n",
       "  1,\n",
       "  1,\n",
       "  1,\n",
       "  1,\n",
       "  1,\n",
       "  1,\n",
       "  1,\n",
       "  1,\n",
       "  1,\n",
       "  1,\n",
       "  1,\n",
       "  1,\n",
       "  1,\n",
       "  1,\n",
       "  1,\n",
       "  1,\n",
       "  1,\n",
       "  1,\n",
       "  1,\n",
       "  1,\n",
       "  1,\n",
       "  1,\n",
       "  1,\n",
       "  1,\n",
       "  1,\n",
       "  1,\n",
       "  1,\n",
       "  1,\n",
       "  1,\n",
       "  1,\n",
       "  1,\n",
       "  1,\n",
       "  1,\n",
       "  1,\n",
       "  1,\n",
       "  1,\n",
       "  1,\n",
       "  1,\n",
       "  1,\n",
       "  1,\n",
       "  1,\n",
       "  1,\n",
       "  1,\n",
       "  1,\n",
       "  1,\n",
       "  1,\n",
       "  1,\n",
       "  1,\n",
       "  1,\n",
       "  1,\n",
       "  1,\n",
       "  1,\n",
       "  1,\n",
       "  1,\n",
       "  1,\n",
       "  1,\n",
       "  1,\n",
       "  1,\n",
       "  1,\n",
       "  1,\n",
       "  1,\n",
       "  1,\n",
       "  1,\n",
       "  1,\n",
       "  1,\n",
       "  1,\n",
       "  1,\n",
       "  1,\n",
       "  1,\n",
       "  1,\n",
       "  1,\n",
       "  1,\n",
       "  1,\n",
       "  1,\n",
       "  1,\n",
       "  1,\n",
       "  1,\n",
       "  1,\n",
       "  1,\n",
       "  1,\n",
       "  1,\n",
       "  1,\n",
       "  1,\n",
       "  1,\n",
       "  1,\n",
       "  1,\n",
       "  1,\n",
       "  1,\n",
       "  1,\n",
       "  1,\n",
       "  1,\n",
       "  1,\n",
       "  1,\n",
       "  1,\n",
       "  1,\n",
       "  1,\n",
       "  1,\n",
       "  1,\n",
       "  1,\n",
       "  1,\n",
       "  1,\n",
       "  1,\n",
       "  1,\n",
       "  1,\n",
       "  1,\n",
       "  1,\n",
       "  1,\n",
       "  1,\n",
       "  1,\n",
       "  1,\n",
       "  1,\n",
       "  1,\n",
       "  1,\n",
       "  1,\n",
       "  1,\n",
       "  1,\n",
       "  1,\n",
       "  1,\n",
       "  1,\n",
       "  1,\n",
       "  1,\n",
       "  1,\n",
       "  1,\n",
       "  1,\n",
       "  1,\n",
       "  1,\n",
       "  1,\n",
       "  1,\n",
       "  1,\n",
       "  1,\n",
       "  1,\n",
       "  1,\n",
       "  1,\n",
       "  1,\n",
       "  1,\n",
       "  1,\n",
       "  1,\n",
       "  1,\n",
       "  1,\n",
       "  1,\n",
       "  1,\n",
       "  1,\n",
       "  1,\n",
       "  1,\n",
       "  1]}"
      ]
     },
     "execution_count": 22,
     "metadata": {},
     "output_type": "execute_result"
    }
   ],
   "source": [
    "tokenized_dataset[\"train\"][0]"
   ]
  },
  {
   "cell_type": "code",
   "execution_count": 23,
   "id": "1ba655f4",
   "metadata": {},
   "outputs": [
    {
     "data": {
      "text/html": [
       "<table border=\"1\" class=\"dataframe\">\n",
       "  <thead>\n",
       "    <tr style=\"text-align: right;\">\n",
       "      <th>labels</th>\n",
       "      <th>input_ids</th>\n",
       "      <th>attention_mask</th>\n",
       "    </tr>\n",
       "  </thead>\n",
       "  <tbody>\n",
       "    <tr>\n",
       "      <td>food</td>\n",
       "      <td>101 1015 1048 2290 4086 2417 11565 1015 2452 22126 24881 7975 1008 1015 7251 24667 2078 23605 3514 1015 2452 12984 3180 5785 1015 18856 21818 20548 1011 1011 8117 11788 1015 1013 1016 2452 10424 2480 2078 2394 26072 1011 1011 22794 15557 1015 5572 13102 7828 8117 11788 4840 14580 3217 4140 8288 1011 1011 7854 1015 1013 1016 2452 22126 24881 25659 2015 1015 7251 24667 2078 4606 1015 1015 1013 1016 1056 25176 12901 1015 1013 1018 2452 4857 2135 15920 2665 24444 1015 1013 1022 5572 13102 7828 5474 1008 1015 2452 22126 24881 1010 12984 7975 7388 1006 19937 2077 8434 1007 3013 1037 1015 1013 1016 1000 4317 14704 2013 1996 2217 1997 2169 11565 1010 24501 25164 25609 1025 6366 8079 1012 2173 23582 1999 16018 2300 1010 26077 1019 2781 1012 12475 1010 2275 4998 1012 5435 1037 2312 8066 3388 2030 24185 2243 2007 14089 1025 5587 23605 3514 1010 1998 2173 2058 19960 3684 2127 2980 1012 5587 20548 1998 14580 3217 4140 1025 16130 14744 2382 3823 1012 5587 25659 2015 1998 2665 24444 1025 16130 14744 1016 2781 2062 1012 6366 2013 3684 1012 5587 7975 1998 3588 12760 1010 18385 2092 1012 15642 1017 1013 1018 2452 8150 2046 2169 9235 11565 1012 2327 2007 9235 11565 25609 1012 13621 23582 1010 3013 2217 2039 1010 1999 1037 2184 2595 2575 2595 2475 1000 21522 9841 1012 3104 1998 8670 3489 8698 2139 2290 1042 2005 2382 2781 2030 2127 12246 9685 1012 2566 3529 1024 20304 10250 18909 1010 2385 1012 1018 1043 5250 1010 1020 1012 1021 1043 6638 1010 2423 1012 1021 2482 5092 10536 7265 4570 5818 1043 16480 4244 27833 1010 1017 1012 1015 11460 3707 1010 4029 2575 11460 13365 1010 4261 11460 13853 1012 4991 2011 3461 8663 2615 2310 2869 1012 1015 1012 4002 102</td>\n",
       "      <td>1 1 1 1 1 1 1 1 1 1 1 1 1 1 1 1 1 1 1 1 1 1 1 1 1 1 1 1 1 1 1 1 1 1 1 1 1 1 1 1 1 1 1 1 1 1 1 1 1 1 1 1 1 1 1 1 1 1 1 1 1 1 1 1 1 1 1 1 1 1 1 1 1 1 1 1 1 1 1 1 1 1 1 1 1 1 1 1 1 1 1 1 1 1 1 1 1 1 1 1 1 1 1 1 1 1 1 1 1 1 1 1 1 1 1 1 1 1 1 1 1 1 1 1 1 1 1 1 1 1 1 1 1 1 1 1 1 1 1 1 1 1 1 1 1 1 1 1 1 1 1 1 1 1 1 1 1 1 1 1 1 1 1 1 1 1 1 1 1 1 1 1 1 1 1 1 1 1 1 1 1 1 1 1 1 1 1 1 1 1 1 1 1 1 1 1 1 1 1 1 1 1 1 1 1 1 1 1 1 1 1 1 1 1 1 1 1 1 1 1 1 1 1 1 1 1 1 1 1 1 1 1 1 1 1 1 1 1 1 1 1 1 1 1 1 1 1 1 1 1 1 1 1 1 1 1 1 1 1 1 1 1 1 1 1 1 1 1 1 1 1 1 1 1 1 1 1 1 1 1 1 1 1 1 1 1 1 1 1 1 1 1 1 1 1 1 1 1 1 1 1 1 1 1 1 1 1 1 1 1 1 1 1 1 1 1 1 1</td>\n",
       "    </tr>\n",
       "    <tr>\n",
       "      <td>technologie</td>\n",
       "      <td>101 8543 1997 2034 6207 6097 8289 15333 2546 20710 4939 1010 2132 1997 1996 2136 2369 1996 2034 22228 3274 1010 2038 2351 1012 2720 20710 4939 2001 2028 1997 1996 2034 5126 2012 6207 1998 2081 2116 1997 1996 2640 6567 2008 2081 1996 6097 2061 8200 2043 2009 2001 2034 2207 1012 2002 2419 1996 2136 2008 2787 2000 2224 1037 20477 8278 1998 8000 2008 2292 2111 22149 2105 1996 3274 2011 7302 1998 22042 1012 1996 3118 2713 1997 1996 6097 7686 2720 20710 4939 1005 1055 6772 2008 2204 2640 2323 2191 7588 3733 2000 2224 1012 2720 20710 4939 2587 6207 1999 3301 2004 7904 2193 2861 1010 3322 2000 2599 1996 2194 1005 1055 5523 2533 1012 2174 1010 1999 3245 2002 2001 2404 1999 3715 1997 1037 2235 2136 2000 2640 1037 3274 2008 2973 2039 2000 2010 2801 1997 1037 3698 2008 2001 10036 1010 6461 2012 10390 2738 2084 3274 8390 1998 2001 2200 3733 2000 2224 1012 1996 2765 2001 1996 3118 22228 2008 2106 2185 2007 1996 2059 2691 3793 1011 2241 8278 1999 7927 1997 2028 2241 2105 8389 2008 15881 1037 7484 15363 1998 2109 19622 2015 1998 5491 1012 5198 22149 2094 2105 1996 3698 2478 1037 8000 1998 2011 7302 1010 22042 1998 11920 1012 2348 2085 1999 2691 2224 1999 2471 2035 7588 1010 2122 4725 2020 13280 2043 2034 2109 1999 1996 22228 1012 1996 26458 2001 2764 2011 1060 10624 2595 27985 1010 1998 2109 1999 2049 2732 3698 1012 2021 1996 9920 1997 1996 8278 2106 2025 5621 4088 2127 1996 4145 2001 2764 2005 2224 2011 6207 1999 2049 13280 7059 3274 1012 1000 2010 2535 2006 1996 22228 2001 1996 1999 29050 4263 1997 1996 2622 1010 2061 2009 2876 1005 1056 2022 2182 2065 2009 4694 1005 1056 2005 2032 1010 1000 2056 5557 2014 5753 8151 1010 2019 2220 22228 2136 2266 1012 2348 2720 20710 4939 5225 1996 2136 2008 2580 1996 22228 2002 2106 2025 2994 2012 6207 2000 2156 2009 2207 1012 1999 3261 2002 2001 3718 2013 1996 2622 2206 1037 7593 2007 6207 1005 1055 21442 10841 14482 5795 3889 5841 1012 1999 3196 1010 2720 20710 4939 2187 6207 4498 1012 1996 22228 2001 22353 2135 2315 2044 2720 20710 4939 1005 1055 8837 6207 1010 2295 1996 2171 2001 2904 3621 2206 1037 11749 7593 2007 2178 2194 1012 2044 2975 6207 1010 2720 20710 4939 2631 2178 2194 2170 2592 10439 15204 3401 1998 2506 2000 2147 2006 2488 3971 2000 8278 2007 7588 1012 2002 2001 2036 2019 8885 5455 1010 2209 2093 5693 1998 4146 2624 3799 1005 1055 4574 3850 2554 1012 2720 20710 4939 2001 11441 1999 2285 2432 2007 6090 16748 12070 4456 1998 2351 2006 2656 2337 2012 2010 2188 1999 2662 1012 102</td>\n",
       "      <td>1 1 1 1 1 1 1 1 1 1 1 1 1 1 1 1 1 1 1 1 1 1 1 1 1 1 1 1 1 1 1 1 1 1 1 1 1 1 1 1 1 1 1 1 1 1 1 1 1 1 1 1 1 1 1 1 1 1 1 1 1 1 1 1 1 1 1 1 1 1 1 1 1 1 1 1 1 1 1 1 1 1 1 1 1 1 1 1 1 1 1 1 1 1 1 1 1 1 1 1 1 1 1 1 1 1 1 1 1 1 1 1 1 1 1 1 1 1 1 1 1 1 1 1 1 1 1 1 1 1 1 1 1 1 1 1 1 1 1 1 1 1 1 1 1 1 1 1 1 1 1 1 1 1 1 1 1 1 1 1 1 1 1 1 1 1 1 1 1 1 1 1 1 1 1 1 1 1 1 1 1 1 1 1 1 1 1 1 1 1 1 1 1 1 1 1 1 1 1 1 1 1 1 1 1 1 1 1 1 1 1 1 1 1 1 1 1 1 1 1 1 1 1 1 1 1 1 1 1 1 1 1 1 1 1 1 1 1 1 1 1 1 1 1 1 1 1 1 1 1 1 1 1 1 1 1 1 1 1 1 1 1 1 1 1 1 1 1 1 1 1 1 1 1 1 1 1 1 1 1 1 1 1 1 1 1 1 1 1 1 1 1 1 1 1 1 1 1 1 1 1 1 1 1 1 1 1 1 1 1 1 1 1 1 1 1 1 1 1 1 1 1 1 1 1 1 1 1 1 1 1 1 1 1 1 1 1 1 1 1 1 1 1 1 1 1 1 1 1 1 1 1 1 1 1 1 1 1 1 1 1 1 1 1 1 1 1 1 1 1 1 1 1 1 1 1 1 1 1 1 1 1 1 1 1 1 1 1 1 1 1 1 1 1 1 1 1 1 1 1 1 1 1 1 1 1 1 1 1 1 1 1 1 1 1 1 1 1 1 1 1 1 1 1 1 1 1 1 1 1 1 1 1 1 1 1 1 1 1 1 1 1 1 1 1 1 1 1 1 1 1 1 1 1 1 1 1 1 1 1 1 1 1 1 1 1 1 1 1 1 1 1 1 1 1 1 1 1 1 1 1 1 1</td>\n",
       "    </tr>\n",
       "    <tr>\n",
       "      <td>historical</td>\n",
       "      <td>101 2088 2162 1045 2012 2712 1999 1996 2086 2077 2088 2162 1045 1010 1996 19113 1997 3725 1521 1055 2548 3212 2001 4895 18598 7770 5999 2011 2151 2060 3842 1521 1055 4170 1010 2021 1996 4461 2446 3212 2018 2081 6937 22215 1999 5494 1996 6578 2090 1996 2048 3987 4204 1012 2762 1521 1055 3997 2006 1996 2152 11915 2001 2036 11553 2011 2049 12765 4170 1997 1057 1011 4049 12622 1012 2044 1996 2645 1997 28844 2121 2924 1999 2254 4936 1010 1999 2029 1996 2329 5614 1037 4474 2886 2006 2446 3719 1999 1996 2167 2712 1010 1996 2446 3212 4900 2025 2000 14323 3725 1521 1055 10478 2548 3212 1999 1037 2350 2645 2005 2062 2084 1037 2095 1010 21393 2000 2717 1996 9625 1997 2049 3987 5656 2006 2049 1057 1011 6242 1012 1996 5221 3987 8147 1997 2088 2162 1045 1010 1996 2645 1997 18414 19270 1006 2089 4947 1007 2187 2329 3987 19113 2006 1996 2167 2712 10109 1010 1998 2762 2052 2191 2053 2582 4740 2000 3338 2019 6035 3987 15823 2005 1996 6893 1997 1996 2162 1012 102</td>\n",
       "      <td>1 1 1 1 1 1 1 1 1 1 1 1 1 1 1 1 1 1 1 1 1 1 1 1 1 1 1 1 1 1 1 1 1 1 1 1 1 1 1 1 1 1 1 1 1 1 1 1 1 1 1 1 1 1 1 1 1 1 1 1 1 1 1 1 1 1 1 1 1 1 1 1 1 1 1 1 1 1 1 1 1 1 1 1 1 1 1 1 1 1 1 1 1 1 1 1 1 1 1 1 1 1 1 1 1 1 1 1 1 1 1 1 1 1 1 1 1 1 1 1 1 1 1 1 1 1 1 1 1 1 1 1 1 1 1 1 1 1 1 1 1 1 1 1 1 1 1 1 1 1 1 1 1 1 1 1 1 1 1 1 1 1 1 1 1 1 1 1 1 1 1 1 1 1 1 1 1 1 1 1 1 1 1 1 1 1 1 1 1</td>\n",
       "    </tr>\n",
       "  </tbody>\n",
       "</table>"
      ],
      "text/plain": [
       "<IPython.core.display.HTML object>"
      ]
     },
     "metadata": {},
     "output_type": "display_data"
    }
   ],
   "source": [
    "from datasets import ClassLabel, Sequence\n",
    "import random\n",
    "import pandas as pd\n",
    "from IPython.display import display, HTML\n",
    "\n",
    "def show_random_elements(dataset, num_examples=3):\n",
    "    assert num_examples <= len(dataset), \"Can't pick more elements than there are in the dataset.\"\n",
    "    picks = []\n",
    "    for _ in range(num_examples):\n",
    "        pick = random.randint(0, len(dataset)-1)\n",
    "        while pick in picks:\n",
    "            pick = random.randint(0, len(dataset)-1)\n",
    "        picks.append(pick)\n",
    "    \n",
    "    df = pd.DataFrame(dataset[picks])\n",
    "    for column, typ in dataset.features.items():\n",
    "        if isinstance(typ, ClassLabel):\n",
    "            df[column] = df[column].transform(lambda i: typ.names[i])\n",
    "        elif isinstance(typ, Sequence) and isinstance(typ.feature, ClassLabel):\n",
    "            df[column] = df[column].transform(lambda x: [typ.feature.names[i] for i in x])\n",
    "    \n",
    "    # Convert input_ids and attention_mask to strings for better readability\n",
    "    df[\"input_ids\"] = df[\"input_ids\"].apply(lambda x: \" \".join(map(str, x)))\n",
    "    df[\"attention_mask\"] = df[\"attention_mask\"].apply(lambda x: \" \".join(map(str, x)))\n",
    "    \n",
    "    display(HTML(df.to_html(index=False)))\n",
    "\n",
    "show_random_elements(tokenized_dataset[\"train\"])\n",
    "    "
   ]
  },
  {
   "cell_type": "code",
   "execution_count": 24,
   "id": "c1f75137",
   "metadata": {},
   "outputs": [
    {
     "data": {
      "text/html": [
       "<table border=\"1\" class=\"dataframe\">\n",
       "  <thead>\n",
       "    <tr style=\"text-align: right;\">\n",
       "      <th>labels</th>\n",
       "      <th>input_ids</th>\n",
       "      <th>attention_mask</th>\n",
       "    </tr>\n",
       "  </thead>\n",
       "  <tbody>\n",
       "    <tr>\n",
       "      <td>sport</td>\n",
       "      <td>101 21259 18989 2954 2114 5850 1996 21259 1011 6482 1005 2088 8677 2303 1011 2038 2777 3424 1011 23799 4584 1010 7850 1998 7576 2000 2522 1011 2030 18979 2618 1996 2954 2114 5850 1999 4368 1012 2048 4708 2749 2031 2042 2275 2039 2000 11628 23799 1998 14266 3314 1012 2009 2001 2036 3530 2008 1037 4746 2000 1000 2139 1011 2026 16643 12031 1000 1996 3277 2000 7576 1010 1996 2270 1998 1996 2865 2001 1037 9470 1012 1000 2498 2001 2787 2000 2689 2477 1011 2009 2001 2062 2000 2031 1037 7057 1997 1996 22859 4352 2068 2000 4671 3209 1010 1000 2056 2019 21259 14056 1012 1000 2893 3071 2362 2435 2149 1037 2843 1997 2833 2005 2245 1012 1000 2055 3438 2111 3230 4465 1005 1055 3116 1999 14497 1010 2164 21259 2708 16983 3170 22939 3600 1998 15408 2078 8258 12784 5406 2015 1010 2085 1037 2266 1997 1996 7576 1005 3222 1012 1000 1045 2572 2200 3407 2000 2156 2017 2035 1010 2372 1997 1996 6482 2155 1010 6869 13567 2000 1996 21259 2655 2000 4133 2362 1998 6848 2054 2062 2057 2064 2079 1999 1996 2954 2114 23799 1010 1000 2056 22939 3600 1012 1000 2057 2024 1996 2877 4657 1999 2023 2492 1998 2009 2003 2256 4611 2000 2562 2256 4368 4550 1012 1000 1996 2048 4708 2749 2097 3189 2067 2000 1996 21259 2473 1010 2012 2049 2258 3116 1999 12577 1012 102</td>\n",
       "      <td>1 1 1 1 1 1 1 1 1 1 1 1 1 1 1 1 1 1 1 1 1 1 1 1 1 1 1 1 1 1 1 1 1 1 1 1 1 1 1 1 1 1 1 1 1 1 1 1 1 1 1 1 1 1 1 1 1 1 1 1 1 1 1 1 1 1 1 1 1 1 1 1 1 1 1 1 1 1 1 1 1 1 1 1 1 1 1 1 1 1 1 1 1 1 1 1 1 1 1 1 1 1 1 1 1 1 1 1 1 1 1 1 1 1 1 1 1 1 1 1 1 1 1 1 1 1 1 1 1 1 1 1 1 1 1 1 1 1 1 1 1 1 1 1 1 1 1 1 1 1 1 1 1 1 1 1 1 1 1 1 1 1 1 1 1 1 1 1 1 1 1 1 1 1 1 1 1 1 1 1 1 1 1 1 1 1 1 1 1 1 1 1 1 1 1 1 1 1 1 1 1 1 1 1 1 1 1 1 1 1 1 1 1 1 1 1 1 1 1 1 1 1 1 1 1 1 1 1 1 1 1 1 1 1 1 1 1 1 1 1 1 1 1 1</td>\n",
       "    </tr>\n",
       "    <tr>\n",
       "      <td>other</td>\n",
       "      <td>101 1999 2019 18988 4653 1997 2451 4382 1010 3901 1997 1996 5780 2237 1997 11615 13312 2031 3390 1037 2312 1011 4094 4483 27686 6349 6461 2012 16487 1996 3019 5053 1997 2037 2334 12212 1998 2380 8653 1012 1996 2724 1010 4114 2011 1996 11615 13312 4483 2177 1010 6296 2058 3998 7314 2040 5935 2220 5095 2851 1010 6055 2007 11875 1010 8641 1010 1998 2019 4895 16535 4892 8426 2000 2191 1037 4489 1012 1996 6349 3139 2536 4573 1010 2164 1996 2759 13152 3509 1998 7222 7676 2380 1010 2029 2031 2464 2019 3623 1999 19070 1998 10796 2058 1996 2627 2095 1012 7314 15844 2013 2402 2336 2000 9750 3901 1010 2035 2551 2362 2000 8145 11669 1010 6366 17760 4475 1010 1998 5333 7073 2055 1996 5197 1997 4483 17946 9650 1012 2334 5661 5201 2000 1996 3947 2011 4346 6067 1010 25416 21898 8163 1010 1998 3361 2490 1010 14313 1996 2451 1005 1055 7268 10663 2000 11147 4483 3314 2132 1011 2006 1012 1996 27686 5531 2007 1037 2235 5103 2073 18829 15583 6818 1998 11548 1996 4254 1997 2037 4073 1024 2195 6197 1997 11669 2020 5067 1998 7919 21866 1997 1010 1998 3488 2020 2081 2005 2925 4483 3450 1012 2023 6349 2025 2069 17935 3775 10451 1996 2334 2752 2021 2036 13949 2451 9547 1998 11548 1996 2373 1997 7268 2895 1999 12786 4483 7860 1012 3901 2187 1996 2724 3110 1037 9100 3168 1997 6620 1999 2037 2451 1998 1037 8426 2000 5719 2122 4073 2802 1996 2095 1012 102</td>\n",
       "      <td>1 1 1 1 1 1 1 1 1 1 1 1 1 1 1 1 1 1 1 1 1 1 1 1 1 1 1 1 1 1 1 1 1 1 1 1 1 1 1 1 1 1 1 1 1 1 1 1 1 1 1 1 1 1 1 1 1 1 1 1 1 1 1 1 1 1 1 1 1 1 1 1 1 1 1 1 1 1 1 1 1 1 1 1 1 1 1 1 1 1 1 1 1 1 1 1 1 1 1 1 1 1 1 1 1 1 1 1 1 1 1 1 1 1 1 1 1 1 1 1 1 1 1 1 1 1 1 1 1 1 1 1 1 1 1 1 1 1 1 1 1 1 1 1 1 1 1 1 1 1 1 1 1 1 1 1 1 1 1 1 1 1 1 1 1 1 1 1 1 1 1 1 1 1 1 1 1 1 1 1 1 1 1 1 1 1 1 1 1 1 1 1 1 1 1 1 1 1 1 1 1 1 1 1 1 1 1 1 1 1 1 1 1 1 1 1 1 1 1 1 1 1 1 1 1 1 1 1 1 1 1 1 1 1 1 1 1 1 1 1 1 1 1 1 1 1 1 1 1 1 1 1 1 1 1 1 1 1 1 1 1 1 1</td>\n",
       "    </tr>\n",
       "    <tr>\n",
       "      <td>entertainment</td>\n",
       "      <td>101 1996 6443 23348 2015 2754 2982 1996 6443 2038 7854 2984 3769 27915 1999 1996 2645 1997 1996 27858 2225 2203 20103 2012 1996 14439 2982 1012 1996 6443 2180 2093 11580 2012 1996 2866 1005 1055 2087 8919 3296 3004 2982 1010 2096 2984 3769 27915 2180 2048 1012 11463 8379 1005 2718 2265 10911 2098 1999 1996 2645 2005 2190 2047 3315 1010 2073 2009 2001 2039 2114 2984 3769 27915 1998 4080 6746 19861 1005 1055 1996 2450 1999 2317 1012 5070 8076 1005 1055 1996 2381 3337 2001 1996 2502 3453 1999 1996 3442 3004 7236 1010 8130 2039 2093 22236 1012 2021 2035 2159 2020 2006 1996 3315 11580 2044 1996 6443 1010 2984 3769 27915 1998 1996 2450 1999 2317 2035 2018 2152 1011 6337 16556 1999 1996 2197 2416 2706 1012 1996 6443 1005 7150 4644 1010 1037 2197 1011 3371 6110 2005 2957 2852 3240 25608 2015 1010 3786 2010 2280 2522 1011 2732 3389 6473 2000 2663 2190 3315 3364 1012 4644 2038 2525 2187 1996 2537 1012 1037 15132 2718 2006 5934 2077 3048 2000 2414 1010 1996 2265 2036 2180 2190 3315 2836 1999 1037 4637 2535 2005 9530 7485 2232 2940 1010 2040 3248 2472 5074 11385 1012 2984 3769 27915 1005 2982 2234 2005 2190 16967 1998 2190 3315 3883 2005 2049 2732 6874 9393 5163 1012 2009 2419 1996 9930 2183 2046 4465 1005 1055 5103 2012 2414 1005 1055 15481 3309 1010 2039 2005 3157 2982 1012 2119 3065 2024 2754 17241 1997 4120 3152 1012 1996 2381 3337 1010 2275 1999 1037 8035 2082 1999 1996 2220 3865 1998 6576 2241 2006 8076 1005 1055 6322 2004 1037 3836 1010 2001 2315 2190 2047 2377 1012 2009 2036 2180 2190 3364 2005 2957 21960 1010 2040 3786 2010 4302 10693 2143 2522 1011 2732 2745 11721 13344 2078 1010 4222 2005 2203 16650 1010 2004 2092 2004 5655 29198 3401 1998 3841 1059 24158 14238 1012 1996 2377 2036 2180 2120 3004 6018 2472 6141 1044 22123 3678 2190 2472 1998 8076 2288 1037 2569 2400 2005 5151 6691 2000 2329 3004 1012 8214 18414 4305 7939 2818 1010 2040 5652 1999 2035 1005 1055 2092 2008 4515 2092 2012 1996 21025 2884 12193 2094 1010 2439 2041 1999 1996 2190 4637 2535 4696 2000 8282 5671 1010 2040 2209 20417 1999 27178 18223 2080 2005 1996 2548 8101 2194 1012 1996 14439 2982 2031 2042 4375 2041 2011 1996 2554 1997 2414 2144 3299 1012 1011 2190 7497 2640 1011 2010 2601 4475 2881 2011 2703 2063 12294 2012 1996 14439 1011 2190 2614 2640 1011 1996 2450 1999 2317 2881 2011 10872 10693 2012 1996 4186 1011 2190 2047 3850 1011 3203 25182 1997 11047 5054 6711 2012 1996 2548 3850 2160 1011 5151 6344 1999 3850 1011 2726 4748 2229 1998 1996 2548 3850 2160 2005 1996 2088 6765 1997 1996 22553 1011 2190 9427 2640 1011 2035 1005 1055 2092 2008 4515 2092 2881 2011 14866 4103 2890 24530 2012 102</td>\n",
       "      <td>1 1 1 1 1 1 1 1 1 1 1 1 1 1 1 1 1 1 1 1 1 1 1 1 1 1 1 1 1 1 1 1 1 1 1 1 1 1 1 1 1 1 1 1 1 1 1 1 1 1 1 1 1 1 1 1 1 1 1 1 1 1 1 1 1 1 1 1 1 1 1 1 1 1 1 1 1 1 1 1 1 1 1 1 1 1 1 1 1 1 1 1 1 1 1 1 1 1 1 1 1 1 1 1 1 1 1 1 1 1 1 1 1 1 1 1 1 1 1 1 1 1 1 1 1 1 1 1 1 1 1 1 1 1 1 1 1 1 1 1 1 1 1 1 1 1 1 1 1 1 1 1 1 1 1 1 1 1 1 1 1 1 1 1 1 1 1 1 1 1 1 1 1 1 1 1 1 1 1 1 1 1 1 1 1 1 1 1 1 1 1 1 1 1 1 1 1 1 1 1 1 1 1 1 1 1 1 1 1 1 1 1 1 1 1 1 1 1 1 1 1 1 1 1 1 1 1 1 1 1 1 1 1 1 1 1 1 1 1 1 1 1 1 1 1 1 1 1 1 1 1 1 1 1 1 1 1 1 1 1 1 1 1 1 1 1 1 1 1 1 1 1 1 1 1 1 1 1 1 1 1 1 1 1 1 1 1 1 1 1 1 1 1 1 1 1 1 1 1 1 1 1 1 1 1 1 1 1 1 1 1 1 1 1 1 1 1 1 1 1 1 1 1 1 1 1 1 1 1 1 1 1 1 1 1 1 1 1 1 1 1 1 1 1 1 1 1 1 1 1 1 1 1 1 1 1 1 1 1 1 1 1 1 1 1 1 1 1 1 1 1 1 1 1 1 1 1 1 1 1 1 1 1 1 1 1 1 1 1 1 1 1 1 1 1 1 1 1 1 1 1 1 1 1 1 1 1 1 1 1 1 1 1 1 1 1 1 1 1 1 1 1 1 1 1 1 1 1 1 1 1 1 1 1 1 1 1 1 1 1 1 1 1 1 1 1 1 1 1 1 1 1 1 1 1 1 1 1 1 1 1 1 1 1 1 1 1 1 1 1 1 1 1 1 1 1 1 1 1 1 1 1 1 1 1 1 1 1 1 1 1 1 1 1 1 1 1 1 1 1 1 1 1 1 1 1 1 1 1 1 1 1</td>\n",
       "    </tr>\n",
       "  </tbody>\n",
       "</table>"
      ],
      "text/plain": [
       "<IPython.core.display.HTML object>"
      ]
     },
     "metadata": {},
     "output_type": "display_data"
    }
   ],
   "source": [
    "show_random_elements(tokenized_dataset[\"test\"])"
   ]
  },
  {
   "cell_type": "code",
   "execution_count": 25,
   "id": "2caccefd",
   "metadata": {},
   "outputs": [],
   "source": [
    "# Create label2id and id2label dicts\n",
    "labels = tokenized_dataset[\"train\"].features[\"labels\"].names\n",
    "num_labels = len(labels)\n",
    "label2id, id2label = dict(), dict()\n",
    "for i, label in enumerate(labels):\n",
    "    label2id[label] = str(i)\n",
    "    id2label[str(i)] = label"
   ]
  },
  {
   "cell_type": "code",
   "execution_count": 26,
   "id": "ace4b449",
   "metadata": {},
   "outputs": [
    {
     "data": {
      "text/plain": [
       "{'business': '0',\n",
       " 'entertainment': '1',\n",
       " 'food': '2',\n",
       " 'graphics': '3',\n",
       " 'historical': '4',\n",
       " 'medical': '5',\n",
       " 'other': '6',\n",
       " 'politics': '7',\n",
       " 'space': '8',\n",
       " 'sport': '9',\n",
       " 'technologie': '10'}"
      ]
     },
     "execution_count": 26,
     "metadata": {},
     "output_type": "execute_result"
    }
   ],
   "source": [
    "label2id"
   ]
  },
  {
   "cell_type": "code",
   "execution_count": 27,
   "id": "bcd34fb2",
   "metadata": {},
   "outputs": [],
   "source": [
    "##### Now we Fine-tune  the model using PyTorch and Trainer  Trellis dataset looks good ##### "
   ]
  },
  {
   "cell_type": "code",
   "execution_count": 28,
   "id": "c3c055b8",
   "metadata": {},
   "outputs": [],
   "source": [
    "### Hyperparameter Definition, Model Loading"
   ]
  },
  {
   "cell_type": "code",
   "execution_count": 29,
   "id": "fcf41314",
   "metadata": {},
   "outputs": [
    {
     "name": "stderr",
     "output_type": "stream",
     "text": [
      "/home/ec2-user/anaconda3/envs/pytorch_p310/lib/python3.10/site-packages/transformers/training_args.py:1474: FutureWarning: `evaluation_strategy` is deprecated and will be removed in version 4.46 of 🤗 Transformers. Use `eval_strategy` instead\n",
      "  warnings.warn(\n"
     ]
    },
    {
     "data": {
      "application/vnd.jupyter.widget-view+json": {
       "model_id": "51482ee7b5ad48adb2942f0a390344e6",
       "version_major": 2,
       "version_minor": 0
      },
      "text/plain": [
       "model.safetensors:   0%|          | 0.00/268M [00:00<?, ?B/s]"
      ]
     },
     "metadata": {},
     "output_type": "display_data"
    },
    {
     "name": "stderr",
     "output_type": "stream",
     "text": [
      "Some weights of DistilBertForSequenceClassification were not initialized from the model checkpoint at distilbert-base-uncased and are newly initialized: ['classifier.bias', 'classifier.weight', 'pre_classifier.bias', 'pre_classifier.weight']\n",
      "You should probably TRAIN this model on a down-stream task to be able to use it for predictions and inference.\n"
     ]
    }
   ],
   "source": [
    "# Define training arguments\n",
    "tracing_steps = 100\n",
    "training_args = TrainingArguments(\n",
    "    output_dir=repo_name,\n",
    "    num_train_epochs=5,\n",
    "    per_device_train_batch_size=16,\n",
    "    per_device_eval_batch_size=16,\n",
    "    warmup_steps=500,\n",
    "    weight_decay=0.01,\n",
    "    logging_dir=f\"{repo_name}/logs\",\n",
    "    logging_strategy=\"steps\",\n",
    "    logging_steps=tracing_steps,\n",
    "    evaluation_strategy=\"steps\",\n",
    "    eval_steps=tracing_steps,\n",
    "    save_strategy=\"steps\",\n",
    "    save_steps=tracing_steps,\n",
    "    save_total_limit=2,\n",
    "    load_best_model_at_end=True,\n",
    "    metric_for_best_model=\"f1\",\n",
    "    report_to=\"tensorboard\",\n",
    "    push_to_hub=False\n",
    ")\n",
    "\n",
    "\n",
    "# define data_collator\n",
    "data_collator = DataCollatorWithPadding(tokenizer=tokenizer)\n",
    "\n",
    "# define model\n",
    "model = AutoModelForSequenceClassification.from_pretrained(\n",
    "    model_id,\n",
    "    num_labels=num_labels, \n",
    "    id2label=id2label,\n",
    "    label2id=label2id,\n",
    ")"
   ]
  },
  {
   "cell_type": "code",
   "execution_count": 30,
   "id": "e3d2bc16",
   "metadata": {},
   "outputs": [
    {
     "data": {
      "text/plain": [
       "'distilbert-base-uncased'"
      ]
     },
     "execution_count": 30,
     "metadata": {},
     "output_type": "execute_result"
    }
   ],
   "source": [
    "model_id"
   ]
  },
  {
   "cell_type": "code",
   "execution_count": 31,
   "id": "98a3a345",
   "metadata": {},
   "outputs": [
    {
     "data": {
      "text/plain": [
       "11"
      ]
     },
     "execution_count": 31,
     "metadata": {},
     "output_type": "execute_result"
    }
   ],
   "source": [
    "num_labels"
   ]
  },
  {
   "cell_type": "code",
   "execution_count": 32,
   "id": "8acea0c9",
   "metadata": {},
   "outputs": [
    {
     "name": "stderr",
     "output_type": "stream",
     "text": [
      "/tmp/ipykernel_60787/531426223.py:7: FutureWarning: load_metric is deprecated and will be removed in the next major version of datasets. Use 'evaluate.load' instead, from the new library 🤗 Evaluate: https://huggingface.co/docs/evaluate\n",
      "  f1_metric = load_metric(\"f1\", trust_remote_code=True)\n"
     ]
    }
   ],
   "source": [
    "#### Evaluation metric\n",
    "\n",
    "from datasets import load_metric\n",
    "import numpy as np\n",
    "\n",
    "# define metrics and metrics function\n",
    "f1_metric = load_metric(\"f1\", trust_remote_code=True)\n",
    "accuracy_metric = load_metric( \"accuracy\", trust_remote_code=True)\n",
    "\n",
    "def compute_metrics(eval_pred):\n",
    "    predictions, labels = eval_pred\n",
    "    predictions = np.argmax(predictions, axis=1)\n",
    "    acc = accuracy_metric.compute(predictions=predictions, references=labels)\n",
    "    f1 = f1_metric.compute(predictions=predictions, references=labels, average=\"micro\")\n",
    "    return {\n",
    "        \"accuracy\": acc[\"accuracy\"],\n",
    "        \"f1\": f1[\"f1\"],\n",
    "    }\n",
    "\n",
    "\n",
    "#### This function will be used during the training process to compute the accuracy &\n",
    "### f1 of our Trellis documentation classification model."
   ]
  },
  {
   "cell_type": "code",
   "execution_count": 33,
   "id": "5480c0a0",
   "metadata": {},
   "outputs": [],
   "source": [
    "#### Early Stopping Callback - Trainer Callbacks: - Prevents Overfitting, Improves Generalization"
   ]
  },
  {
   "cell_type": "code",
   "execution_count": 35,
   "id": "0aafe00c",
   "metadata": {},
   "outputs": [],
   "source": [
    "from transformers.trainer_callback import EarlyStoppingCallback\n",
    "\n",
    "callbacks=[]\n",
    "\n",
    "callbacks.append(EarlyStoppingCallback(early_stopping_patience=5))\n",
    "\n",
    "### The training process will stop if the validation metric (accuracy in this case) does not improve for 5 consecutive\n",
    "### evaluation steps."
   ]
  },
  {
   "cell_type": "code",
   "execution_count": 36,
   "id": "d79588cc",
   "metadata": {},
   "outputs": [],
   "source": [
    "### clear CUDA cache"
   ]
  },
  {
   "cell_type": "code",
   "execution_count": 37,
   "id": "0c538d00",
   "metadata": {},
   "outputs": [],
   "source": [
    "from GPUtil import showUtilization as gpu_usage\n",
    "from numba import cuda"
   ]
  },
  {
   "cell_type": "code",
   "execution_count": 40,
   "id": "8c33f050",
   "metadata": {},
   "outputs": [
    {
     "name": "stderr",
     "output_type": "stream",
     "text": [
      "2024-05-17 18:02:18,071 - INFO - init\n",
      "2024-05-17 18:02:18,139 - INFO - reset context of device 0\n"
     ]
    },
    {
     "name": "stdout",
     "output_type": "stream",
     "text": [
      "Initial GPU Usage\n",
      "| ID | GPU | MEM |\n",
      "------------------\n",
      "|  0 |  0% |  0% |\n",
      "GPU Usage after emptying the cache\n",
      "| ID | GPU | MEM |\n",
      "------------------\n",
      "|  0 |  7% |  1% |\n"
     ]
    }
   ],
   "source": [
    "def free_gpu_cache():\n",
    "    print(\"Initial GPU Usage\")\n",
    "    gpu_usage()\n",
    "\n",
    "    torch.cuda.empty_cache()\n",
    "\n",
    "    cuda.select_device(0)\n",
    "    cuda.close()\n",
    "    cuda.select_device(0)\n",
    "\n",
    "    print(\"GPU Usage after emptying the cache\")\n",
    "    gpu_usage()\n",
    "\n",
    "if torch.cuda.is_available():\n",
    "    free_gpu_cache()"
   ]
  },
  {
   "cell_type": "code",
   "execution_count": null,
   "id": "4a5744d8",
   "metadata": {},
   "outputs": [],
   "source": [
    "#### Training\n",
    "### Start training with calling model.fit"
   ]
  },
  {
   "cell_type": "code",
   "execution_count": 41,
   "id": "95a7eafd",
   "metadata": {},
   "outputs": [],
   "source": [
    "# Create the Trainer\n",
    "trainer = Trainer(\n",
    "    model=model,\n",
    "    args=training_args,\n",
    "    train_dataset=tokenized_dataset[\"train\"],\n",
    "    eval_dataset=tokenized_dataset[\"validation\"],\n",
    "    data_collator=data_collator,\n",
    "    tokenizer=tokenizer,\n",
    "    compute_metrics=compute_metrics,\n",
    "    callbacks=callbacks,\n",
    ")\n"
   ]
  },
  {
   "cell_type": "code",
   "execution_count": 42,
   "id": "5893b9e5",
   "metadata": {},
   "outputs": [
    {
     "data": {
      "text/html": [
       "\n",
       "    <div>\n",
       "      \n",
       "      <progress value='210' max='210' style='width:300px; height:20px; vertical-align: middle;'></progress>\n",
       "      [210/210 00:50, Epoch 5/5]\n",
       "    </div>\n",
       "    <table border=\"1\" class=\"dataframe\">\n",
       "  <thead>\n",
       " <tr style=\"text-align: left;\">\n",
       "      <th>Step</th>\n",
       "      <th>Training Loss</th>\n",
       "      <th>Validation Loss</th>\n",
       "      <th>Accuracy</th>\n",
       "      <th>F1</th>\n",
       "    </tr>\n",
       "  </thead>\n",
       "  <tbody>\n",
       "    <tr>\n",
       "      <td>100</td>\n",
       "      <td>2.235500</td>\n",
       "      <td>1.777172</td>\n",
       "      <td>0.864865</td>\n",
       "      <td>0.864865</td>\n",
       "    </tr>\n",
       "    <tr>\n",
       "      <td>200</td>\n",
       "      <td>0.989100</td>\n",
       "      <td>0.324713</td>\n",
       "      <td>0.972973</td>\n",
       "      <td>0.972973</td>\n",
       "    </tr>\n",
       "  </tbody>\n",
       "</table><p>"
      ],
      "text/plain": [
       "<IPython.core.display.HTML object>"
      ]
     },
     "metadata": {},
     "output_type": "display_data"
    },
    {
     "data": {
      "text/plain": [
       "TrainOutput(global_step=210, training_loss=1.550470285188584, metrics={'train_runtime': 52.684, 'train_samples_per_second': 62.448, 'train_steps_per_second': 3.986, 'total_flos': 435496435720752.0, 'train_loss': 1.550470285188584, 'epoch': 5.0})"
      ]
     },
     "execution_count": 42,
     "metadata": {},
     "output_type": "execute_result"
    }
   ],
   "source": [
    "# Train the Trellis document classification model\n",
    "trainer.train()"
   ]
  },
  {
   "cell_type": "code",
   "execution_count": 43,
   "id": "45d55558",
   "metadata": {},
   "outputs": [
    {
     "name": "stdout",
     "output_type": "stream",
     "text": [
      "Path at terminal when executing this file\n",
      "/home/ec2-user/SageMaker/Trellis\n",
      "\n"
     ]
    }
   ],
   "source": [
    "print(\"Path at terminal when executing this file\")\n",
    "print(os.getcwd() + \"\\n\")"
   ]
  },
  {
   "cell_type": "code",
   "execution_count": 44,
   "id": "0e6f502f",
   "metadata": {},
   "outputs": [],
   "source": [
    "##### save model as satensors as well"
   ]
  },
  {
   "cell_type": "code",
   "execution_count": 46,
   "id": "f42d1162",
   "metadata": {},
   "outputs": [],
   "source": [
    "trainer.save_model()"
   ]
  },
  {
   "cell_type": "code",
   "execution_count": 47,
   "id": "631be232",
   "metadata": {},
   "outputs": [],
   "source": [
    "##### evaluate best model "
   ]
  },
  {
   "cell_type": "code",
   "execution_count": 48,
   "id": "50a60d4a",
   "metadata": {},
   "outputs": [
    {
     "data": {
      "text/plain": [
       "{'labels': 3,\n",
       " 'input_ids': [101,\n",
       "  2941,\n",
       "  1045,\n",
       "  2572,\n",
       "  2667,\n",
       "  2000,\n",
       "  4339,\n",
       "  2242,\n",
       "  2066,\n",
       "  2023,\n",
       "  2021,\n",
       "  1045,\n",
       "  8087,\n",
       "  2070,\n",
       "  3471,\n",
       "  1010,\n",
       "  5921,\n",
       "  2068,\n",
       "  1024,\n",
       "  1011,\n",
       "  5059,\n",
       "  1037,\n",
       "  7605,\n",
       "  7318,\n",
       "  15643,\n",
       "  3193,\n",
       "  1997,\n",
       "  1037,\n",
       "  17718,\n",
       "  7277,\n",
       "  1013,\n",
       "  24209,\n",
       "  8445,\n",
       "  2594,\n",
       "  5942,\n",
       "  2008,\n",
       "  2017,\n",
       "  2031,\n",
       "  1996,\n",
       "  13216,\n",
       "  8522,\n",
       "  1997,\n",
       "  1996,\n",
       "  17718,\n",
       "  7277,\n",
       "  1013,\n",
       "  24209,\n",
       "  8445,\n",
       "  2594,\n",
       "  1006,\n",
       "  1060,\n",
       "  1010,\n",
       "  1061,\n",
       "  1010,\n",
       "  1062,\n",
       "  4972,\n",
       "  1997,\n",
       "  2070,\n",
       "  11709,\n",
       "  1007,\n",
       "  1012,\n",
       "  2129,\n",
       "  2000,\n",
       "  10463,\n",
       "  1996,\n",
       "  24655,\n",
       "  8522,\n",
       "  2109,\n",
       "  2011,\n",
       "  13433,\n",
       "  2615,\n",
       "  2000,\n",
       "  2019,\n",
       "  13216,\n",
       "  2028,\n",
       "  1029,\n",
       "  2003,\n",
       "  2009,\n",
       "  8045,\n",
       "  2135,\n",
       "  2467,\n",
       "  2825,\n",
       "  1029,\n",
       "  1045,\n",
       "  2123,\n",
       "  1005,\n",
       "  1056,\n",
       "  2031,\n",
       "  2438,\n",
       "  8785,\n",
       "  2000,\n",
       "  2424,\n",
       "  2041,\n",
       "  2011,\n",
       "  2870,\n",
       "  1010,\n",
       "  2038,\n",
       "  10334,\n",
       "  2657,\n",
       "  2055,\n",
       "  6179,\n",
       "  2808,\n",
       "  2006,\n",
       "  1996,\n",
       "  3395,\n",
       "  1029,\n",
       "  102],\n",
       " 'attention_mask': [1,\n",
       "  1,\n",
       "  1,\n",
       "  1,\n",
       "  1,\n",
       "  1,\n",
       "  1,\n",
       "  1,\n",
       "  1,\n",
       "  1,\n",
       "  1,\n",
       "  1,\n",
       "  1,\n",
       "  1,\n",
       "  1,\n",
       "  1,\n",
       "  1,\n",
       "  1,\n",
       "  1,\n",
       "  1,\n",
       "  1,\n",
       "  1,\n",
       "  1,\n",
       "  1,\n",
       "  1,\n",
       "  1,\n",
       "  1,\n",
       "  1,\n",
       "  1,\n",
       "  1,\n",
       "  1,\n",
       "  1,\n",
       "  1,\n",
       "  1,\n",
       "  1,\n",
       "  1,\n",
       "  1,\n",
       "  1,\n",
       "  1,\n",
       "  1,\n",
       "  1,\n",
       "  1,\n",
       "  1,\n",
       "  1,\n",
       "  1,\n",
       "  1,\n",
       "  1,\n",
       "  1,\n",
       "  1,\n",
       "  1,\n",
       "  1,\n",
       "  1,\n",
       "  1,\n",
       "  1,\n",
       "  1,\n",
       "  1,\n",
       "  1,\n",
       "  1,\n",
       "  1,\n",
       "  1,\n",
       "  1,\n",
       "  1,\n",
       "  1,\n",
       "  1,\n",
       "  1,\n",
       "  1,\n",
       "  1,\n",
       "  1,\n",
       "  1,\n",
       "  1,\n",
       "  1,\n",
       "  1,\n",
       "  1,\n",
       "  1,\n",
       "  1,\n",
       "  1,\n",
       "  1,\n",
       "  1,\n",
       "  1,\n",
       "  1,\n",
       "  1,\n",
       "  1,\n",
       "  1,\n",
       "  1,\n",
       "  1,\n",
       "  1,\n",
       "  1,\n",
       "  1,\n",
       "  1,\n",
       "  1,\n",
       "  1,\n",
       "  1,\n",
       "  1,\n",
       "  1,\n",
       "  1,\n",
       "  1,\n",
       "  1,\n",
       "  1,\n",
       "  1,\n",
       "  1,\n",
       "  1,\n",
       "  1,\n",
       "  1,\n",
       "  1,\n",
       "  1,\n",
       "  1,\n",
       "  1]}"
      ]
     },
     "execution_count": 48,
     "metadata": {},
     "output_type": "execute_result"
    }
   ],
   "source": [
    "tokenized_dataset[\"test\"][0]"
   ]
  },
  {
   "cell_type": "code",
   "execution_count": 49,
   "id": "42d9d69c",
   "metadata": {},
   "outputs": [
    {
     "data": {
      "text/html": [
       "\n",
       "    <div>\n",
       "      \n",
       "      <progress value='12' max='12' style='width:300px; height:20px; vertical-align: middle;'></progress>\n",
       "      [12/12 00:00]\n",
       "    </div>\n",
       "    "
      ],
      "text/plain": [
       "<IPython.core.display.HTML object>"
      ]
     },
     "metadata": {},
     "output_type": "display_data"
    },
    {
     "data": {
      "text/plain": [
       "{'eval_loss': 0.37023454904556274,\n",
       " 'eval_accuracy': 0.9781420765027322,\n",
       " 'eval_f1': 0.9781420765027322,\n",
       " 'eval_runtime': 0.9067,\n",
       " 'eval_samples_per_second': 201.83,\n",
       " 'eval_steps_per_second': 13.235,\n",
       " 'epoch': 5.0}"
      ]
     },
     "execution_count": 49,
     "metadata": {},
     "output_type": "execute_result"
    }
   ],
   "source": [
    "trainer.evaluate(eval_dataset=tokenized_dataset[\"test\"])"
   ]
  },
  {
   "cell_type": "code",
   "execution_count": null,
   "id": "1ba50e7c",
   "metadata": {},
   "outputs": [],
   "source": [
    "##### create quick visualization for losses  #####"
   ]
  },
  {
   "cell_type": "code",
   "execution_count": 3,
   "id": "8bd355f3",
   "metadata": {},
   "outputs": [
    {
     "data": {
      "image/png": "[encoded data removed]",
      "text/plain": [
       "<Figure size 800x600 with 1 Axes>"
      ]
     },
     "metadata": {},
     "output_type": "display_data"
    }
   ],
   "source": [
    "import matplotlib.pyplot as plt\n",
    "\n",
    "import matplotlib.pyplot as plt\n",
    "\n",
    "# Validation results\n",
    "val_loss = 0.3476\n",
    "val_accuracy = 0.9729\n",
    "val_f1 = 0.9729\n",
    "\n",
    "# Test results\n",
    "test_loss = 0.3247\n",
    "test_accuracy = 0.9781\n",
    "test_f1 = 0.9781\n",
    "\n",
    "# Create a figure and axis\n",
    "fig, ax = plt.subplots(figsize=(8, 6))\n",
    "\n",
    "# Set the width of the bars\n",
    "bar_width = 0.35\n",
    "\n",
    "# Set the positions of the bars on the x-axis\n",
    "r1 = np.arange(3)\n",
    "r2 = [x + bar_width for x in r1]\n",
    "\n",
    "# Create the bars for validation and test\n",
    "plt.bar(r1, [val_loss, val_accuracy, val_f1], color='b', width=bar_width, edgecolor='white', label='Validation')\n",
    "plt.bar(r2, [test_loss, test_accuracy, test_f1], color='g', width=bar_width, edgecolor='white', label='Test')\n",
    "\n",
    "# Add labels and title\n",
    "plt.xlabel('Metrics', fontweight='bold')\n",
    "plt.ylabel('Score', fontweight='bold')\n",
    "plt.title('Validation vs Test Metrics', fontweight='bold')\n",
    "plt.xticks([r + bar_width/2 for r in range(3)], ['Loss', 'Accuracy', 'F1 Score'])\n",
    "\n",
    "# Add legend\n",
    "plt.legend()\n",
    "\n",
    "# Display the plot\n",
    "plt.tight_layout()\n",
    "plt.show()"
   ]
  },
  {
   "cell_type": "code",
   "execution_count": null,
   "id": "67d4cc8d",
   "metadata": {},
   "outputs": [],
   "source": [
    "Step\tTraining Loss\tValidation Loss\tAccuracy\tF1\n",
    "100\t2.235500\t1.777172\t0.864865\t0.864865\n",
    "200\t0.989100\t0.324713\t0.972973\t0.972973"
   ]
  },
  {
   "cell_type": "code",
   "execution_count": null,
   "id": "22d4a5a2",
   "metadata": {},
   "outputs": [],
   "source": [
    "# ### Specific Results Interpretation\n",
    "# - **Step 100**:\n",
    "#   - **Training Loss = 2.235500**: Initially, the model had a relatively high loss, indicating it was not performing well at the beginning.\n",
    "#   - **Validation Loss = 1.777172**: The validation loss is slightly lower than the training loss, which is unusual but might occur due to various factors like model regularization techniques affecting training differently than validation.\n",
    "#   - **Accuracy = 0.864865**: About 71.23% of the validation set predictions were correct.\n",
    "#   - **F1 = 0.864865**: The F1 score is also 0.7123, indicating moderate precision and recall.\n",
    "\n",
    "# - **Step 200**:\n",
    "#   - **Training Loss = 0.989100**: The training loss has decreased significantly, indicating that the model has learned and improved from the training data.\n",
    "#   - **Validation Loss = 0.324713**: A substantial decrease in validation loss, suggesting improved generalization and performance on unseen data.\n",
    "#   - **Accuracy = 0.972973**: A high accuracy of 97.26% on the validation set, showing excellent performance.\n",
    "#   - **F1 = 0.972973**: Similarly, a high F1 score indicates very good precision and recall.\n"
   ]
  },
  {
   "cell_type": "code",
   "execution_count": 4,
   "id": "41d89891",
   "metadata": {},
   "outputs": [
    {
     "data": {
      "image/png": "[encoded data removed]",
      "text/plain": [
       "<Figure size 800x600 with 1 Axes>"
      ]
     },
     "metadata": {},
     "output_type": "display_data"
    }
   ],
   "source": [
    "import seaborn as sns\n",
    "\n",
    "# Training loss\n",
    "train_loss = [0.9891]\n",
    "\n",
    "# Test loss\n",
    "test_loss = [0.37023]\n",
    "\n",
    "# Create a figure and axis\n",
    "fig, ax = plt.subplots(figsize=(8, 6))\n",
    "\n",
    "# Set the style and color palette\n",
    "sns.set_style(\"darkgrid\")\n",
    "sns.set_palette(\"bright\")\n",
    "\n",
    "# Plot the training loss\n",
    "sns.lineplot(x=[205], y=train_loss, label='Training Loss', marker='o', markersize=8)\n",
    "\n",
    "# Plot the test loss\n",
    "sns.scatterplot(x=[205], y=test_loss, label='Test Loss', marker='X', s=150)\n",
    "\n",
    "# Add labels and title\n",
    "plt.xlabel('Training Steps', fontsize=12, fontweight='bold')\n",
    "plt.ylabel('Loss', fontsize=12, fontweight='bold')\n",
    "plt.title('Training and Test Loss Trellis Document Class Model', fontsize=14, fontweight='bold')\n",
    "\n",
    "# Set the x-tick labels\n",
    "plt.xticks([205], ['Step 205'], fontsize=10)\n",
    "\n",
    "# Set the y-axis limits\n",
    "plt.ylim(0, max(train_loss + test_loss) * 1.1)\n",
    "\n",
    "# Add a legend\n",
    "plt.legend(loc='upper right', fontsize=10)\n",
    "\n",
    "# Display the plot\n",
    "plt.tight_layout()\n",
    "plt.show()"
   ]
  },
  {
   "cell_type": "code",
   "execution_count": 52,
   "id": "b511b6f3",
   "metadata": {},
   "outputs": [],
   "source": [
    "########  test model predictions one sample  trellis model #####"
   ]
  },
  {
   "cell_type": "code",
   "execution_count": 2,
   "id": "8cbc9b5f",
   "metadata": {},
   "outputs": [],
   "source": [
    "input_news = \"\"\"\n",
    "Grilled Shrimp Tacos with Avocado-Corn Salsa\n",
    "instruction \n",
    "Remove the corn kernels from the cobs: Place a large container on a damp towel. Fold a paper towel into fourths and place it inside the container. Stand 1 ear of corn on the paper towel, using the stem as a handle. Using a paring knife, slice downward, letting the kernels fall into the container. Rotate the cob and continue until all the kernels have been removed; discard the cob. Repeat with the remaining corn. Discard the paper towel.\n",
    "Add the scallions, tomatoes, measured lime juice, cilantro, serrano, and measured salt and stir to combine.\n",
    "Halve and pit the avocados. Using a paring knife, score the flesh of the avocado halves in a 1/4-inch-wide crosshatch pattern (be careful not to cut through the skin). Using a spoon, scoop the avocado pieces into the corn mixture and gently fold to combine.\n",
    "Taste and add more lime juice or salt as needed; set aside.\n",
    "For the tacos:\n",
    "Heat an outdoor grill to high (about 450°F to 550°F). Meanwhile, assemble the shrimp.\n",
    "Whisk the lime juice, oil, chipotle powder, salt, and cumin together in a large bowl. Add the shrimp and toss to combine.\n",
    "Skewer each shrimp through the tail and head ends, leaving about 1/4 inch of space between each shrimp. Transfer the skewers to a baking sheet.\n",
    "Place the skewers in a single layer on the grill without touching. Close the grill and cook until grill marks appear on the bottom, about 4 minutes. Flip the skewers, close the grill, and cook until the shrimp are just firm, about 1 minute more. Transfer the skewers to a clean baking sheet.\n",
    "Remove and discard the skewers, transfer the shrimp to a cutting board, and coarsely chop. Place in a serving bowl.\n",
    "Serve the shrimp with the tortillas and salsa.\n",
    "\"\"\".strip()"
   ]
  },
  {
   "cell_type": "code",
   "execution_count": 3,
   "id": "050cdf8d",
   "metadata": {},
   "outputs": [
    {
     "name": "stderr",
     "output_type": "stream",
     "text": [
      "INFO:root:Model, tokenizer, and label map loaded successfully from distilbert-base-uncased-finetuned-Trellis/\n",
      "INFO:root:Predicted category: food\n"
     ]
    },
    {
     "name": "stdout",
     "output_type": "stream",
     "text": [
      "Predicted category: food\n"
     ]
    }
   ],
   "source": [
    "import os\n",
    "import logging\n",
    "import re\n",
    "from html import unescape\n",
    "from transformers import AutoModelForSequenceClassification, AutoTokenizer, AutoConfig\n",
    "import torch\n",
    "\n",
    "logging.basicConfig(level=logging.INFO)\n",
    "\n",
    "def load_model_and_tokenizer(model_dir: str):\n",
    "    \"\"\"\n",
    "    Loads the fine-tuned model, tokenizer, and configuration from the specified directory.\n",
    "\n",
    "    Args:\n",
    "        model_dir (str): The directory containing the fine-tuned model.\n",
    "\n",
    "    Returns:\n",
    "        tuple: A tuple containing the loaded model, tokenizer, and label map.\n",
    "    \"\"\"\n",
    "    try:\n",
    "        model = AutoModelForSequenceClassification.from_pretrained(model_dir)\n",
    "        tokenizer = AutoTokenizer.from_pretrained(model_dir)\n",
    "        config = AutoConfig.from_pretrained(model_dir)\n",
    "        label_map = {int(k): v for k, v in config.id2label.items()}\n",
    "        logging.info(f\"Model, tokenizer, and label map loaded successfully from {model_dir}\")\n",
    "        return model, tokenizer, label_map\n",
    "    except Exception as e:\n",
    "        logging.error(f\"An error occurred while loading the model, tokenizer, and label map: {e}\")\n",
    "        raise\n",
    "\n",
    "def clean_text_content_trellis(text_content: str) -> str:\n",
    "    \"\"\"\n",
    "    Cleans text content of document text by performing several operations:\n",
    "    - Normalizes line breaks to Unix-style.\n",
    "    - Removes excessive whitespace within lines.\n",
    "    - Strips HTML tags and decodes HTML entities.\n",
    "    - Normalizes paragraph breaks to ensure readability.\n",
    "\n",
    "    Args:\n",
    "        text_content (str): The raw text content to be cleaned.\n",
    "\n",
    "    Returns:\n",
    "        str: The cleaned text content.\n",
    "    \"\"\"\n",
    "    try:\n",
    "        # Normalize line breaks to Unix-style\n",
    "        text_content = re.sub(r'\\r\\n|\\r', '\\n', text_content)\n",
    "        # Remove excessive whitespace within lines\n",
    "        text_content = re.sub(r'\\s+', ' ', text_content).strip()\n",
    "        # Strip HTML tags and decode HTML entities\n",
    "        text_content = re.sub(r'<[^>]+>', '', text_content, flags=re.DOTALL)\n",
    "        text_content = unescape(text_content)\n",
    "        # Normalize paragraph breaks to ensure readability\n",
    "        text_content = re.sub(r'\\n{3,}', '\\n\\n', text_content)\n",
    "        return text_content\n",
    "    except Exception as e:\n",
    "        logging.error(f\"An error occurred while cleaning the text content: {e}\")\n",
    "        return \"\"\n",
    "\n",
    "def predict_category(model, tokenizer, input_text: str, label_map: dict):\n",
    "    \"\"\"\n",
    "    Predicts the category of the input text using the fine-tuned model.\n",
    "\n",
    "    Args:\n",
    "        model: The loaded fine-tuned model.\n",
    "        tokenizer: The loaded tokenizer.\n",
    "        input_text (str): The input text to predict the category for.\n",
    "        label_map (dict): A dictionary mapping label indices to category names.\n",
    "\n",
    "    Returns:\n",
    "        str: The predicted category of the input text.\n",
    "    \"\"\"\n",
    "    try:\n",
    "        # Clean the input text\n",
    "        cleaned_text = clean_text_content_trellis(input_text)\n",
    "        \n",
    "        # Tokenize the cleaned text\n",
    "        inputs = tokenizer(cleaned_text, return_tensors=\"pt\", truncation=True, max_length=512)\n",
    "        \n",
    "        # Make the prediction\n",
    "        with torch.no_grad():\n",
    "            outputs = model(**inputs)\n",
    "            predicted_label_id = outputs.logits.argmax().item()\n",
    "        \n",
    "        # Map the predicted label index to the corresponding category name\n",
    "        predicted_category = label_map[predicted_label_id]\n",
    "        \n",
    "        logging.info(f\"Predicted category: {predicted_category}\")\n",
    "        return predicted_category\n",
    "    except Exception as e:\n",
    "        logging.error(f\"An error occurred while making the prediction: {e}\")\n",
    "        raise\n",
    "\n",
    "# model folder\n",
    "model_dir = \"distilbert-base-uncased-finetuned-Trellis/\"\n",
    "\n",
    "# Load the model, tokenizer, and label map\n",
    "model, tokenizer, label_map = load_model_and_tokenizer(model_dir)\n",
    "\n",
    "# Make the prediction\n",
    "predicted_category = predict_category(model, tokenizer, input_news, label_map)\n",
    "\n",
    "print(f\"Predicted category: {predicted_category}\")"
   ]
  },
  {
   "cell_type": "code",
   "execution_count": 4,
   "id": "8f42aec5",
   "metadata": {},
   "outputs": [
    {
     "name": "stderr",
     "output_type": "stream",
     "text": [
      "INFO:root:Predicted category: food\n"
     ]
    },
    {
     "name": "stdout",
     "output_type": "stream",
     "text": [
      "Predicted category: food\n"
     ]
    }
   ],
   "source": [
    "# Make the prediction\n",
    "other = \"\"\" \"\"\"\n",
    "predicted_category = predict_category(model, tokenizer, input_news, label_map)\n",
    "\n",
    "print(f\"Predicted category: {predicted_category}\")"
   ]
  },
  {
   "cell_type": "code",
   "execution_count": null,
   "id": "4e8e0c16",
   "metadata": {},
   "outputs": [],
   "source": []
  }
 ],
 "metadata": {
  "kernelspec": {
   "display_name": "conda_pytorch_p310",
   "language": "python",
   "name": "conda_pytorch_p310"
  },
  "language_info": {
   "codemirror_mode": {
    "name": "ipython",
    "version": 3
   },
   "file_extension": ".py",
   "mimetype": "text/x-python",
   "name": "python",
   "nbconvert_exporter": "python",
   "pygments_lexer": "ipython3",
   "version": "3.10.14"
  }
 },
 "nbformat": 4,
 "nbformat_minor": 5
}
