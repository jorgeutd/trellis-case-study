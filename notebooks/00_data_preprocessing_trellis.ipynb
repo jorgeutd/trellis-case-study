{
 "cells": [
  {
   "cell_type": "code",
   "execution_count": null,
   "id": "46964075",
   "metadata": {},
   "outputs": [],
   "source": [
    "################## Install libraries ##################"
   ]
  },
  {
   "cell_type": "code",
   "execution_count": 1,
   "id": "b4d104af",
   "metadata": {},
   "outputs": [],
   "source": [
    "!pip install tiktoken --upgrade --quiet\n",
    "!pip install openai --upgrade --quiet\n",
    "!pip install sagemaker --upgrade --quiet\n",
    "!pip install pyarrow s3fs --upgrade --quiet"
   ]
  },
  {
   "cell_type": "code",
   "execution_count": null,
   "id": "f141ab8a",
   "metadata": {},
   "outputs": [],
   "source": [
    "########### Import libraries ###########"
   ]
  },
  {
   "cell_type": "code",
   "execution_count": 1,
   "id": "25a2029e",
   "metadata": {},
   "outputs": [],
   "source": [
    "import numpy as np\n",
    "import pandas as pd\n",
    "import boto3\n",
    "import json\n",
    "import os\n",
    "from pandas import option_context\n",
    "from typing import Union, Dict, List\n",
    "import re\n",
    "import logging\n",
    "from tqdm import tqdm\n",
    "import time\n",
    "from datetime import datetime, timedelta"
   ]
  },
  {
   "cell_type": "code",
   "execution_count": 2,
   "id": "0f6c807e",
   "metadata": {},
   "outputs": [],
   "source": [
    "# Set up logging\n",
    "logging.basicConfig(level=logging.INFO, format='%(asctime)s - %(levelname)s - %(message)s')"
   ]
  },
  {
   "cell_type": "code",
   "execution_count": 3,
   "id": "2742058c",
   "metadata": {},
   "outputs": [],
   "source": [
    "########### Sagemaker Session Validate roles  ###########"
   ]
  },
  {
   "cell_type": "code",
   "execution_count": 4,
   "id": "9d79dca1",
   "metadata": {},
   "outputs": [
    {
     "name": "stderr",
     "output_type": "stream",
     "text": [
      "2024-05-17 19:28:30,434 - INFO - Found credentials from IAM Role: BaseNotebookInstanceEc2InstanceRole\n"
     ]
    },
    {
     "name": "stdout",
     "output_type": "stream",
     "text": [
      "sagemaker.config INFO - Not applying SDK defaults from location: /etc/xdg/sagemaker/config.yaml\n",
      "sagemaker.config INFO - Not applying SDK defaults from location: /home/ec2-user/.config/sagemaker/config.yaml\n"
     ]
    },
    {
     "name": "stderr",
     "output_type": "stream",
     "text": [
      "2024-05-17 19:28:30,764 - INFO - Found credentials from IAM Role: BaseNotebookInstanceEc2InstanceRole\n",
      "2024-05-17 19:28:31,142 - INFO - Found credentials from IAM Role: BaseNotebookInstanceEc2InstanceRole\n",
      "2024-05-17 19:28:31,334 - INFO - Found credentials from IAM Role: BaseNotebookInstanceEc2InstanceRole\n"
     ]
    },
    {
     "name": "stdout",
     "output_type": "stream",
     "text": [
      "sagemaker role arn: arn:aws:iam::730335220874:role/service-role/AmazonSageMaker-ExecutionRole-20240131T123268\n",
      "sagemaker bucket: sagemaker-us-east-1-730335220874\n",
      "sagemaker session region: us-east-1\n"
     ]
    }
   ],
   "source": [
    "import sagemaker\n",
    "sess = sagemaker.Session()\n",
    "# sagemaker session bucket -> used for uploading data, models and logs\n",
    "# sagemaker will automatically create this bucket if it not exists\n",
    "sagemaker_session_bucket=None\n",
    "if sagemaker_session_bucket is None and sess is not None:\n",
    "    # set to default bucket if a bucket name is not given\n",
    "    sagemaker_session_bucket = sess.default_bucket()\n",
    "\n",
    "try:\n",
    "    role = sagemaker.get_execution_role()\n",
    "except ValueError:\n",
    "    iam = boto3.client('iam')\n",
    "    role = iam.get_role(RoleName='sagemaker_execution_role')['Role']['Arn']\n",
    "\n",
    "sess = sagemaker.Session(default_bucket=sagemaker_session_bucket)\n",
    "\n",
    "print(f\"sagemaker role arn: {role}\")\n",
    "print(f\"sagemaker bucket: {sess.default_bucket()}\")\n",
    "print(f\"sagemaker session region: {sess.boto_region_name}\")\n"
   ]
  },
  {
   "cell_type": "code",
   "execution_count": 6,
   "id": "06dd30a8",
   "metadata": {},
   "outputs": [],
   "source": [
    "####### Load data Trellis document data from s3 and build dataset for modeling #######"
   ]
  },
  {
   "cell_type": "code",
   "execution_count": 7,
   "id": "1391daa8",
   "metadata": {},
   "outputs": [],
   "source": [
    "import zipfile\n",
    "from io import BytesIO"
   ]
  },
  {
   "cell_type": "code",
   "execution_count": 11,
   "id": "d753ab90",
   "metadata": {},
   "outputs": [
    {
     "name": "stderr",
     "output_type": "stream",
     "text": [
      "2024-05-17 17:42:50,502 - INFO - Initializing S3 client.\n",
      "2024-05-17 17:42:50,507 - INFO - Downloading zip file from S3 bucket: sagemaker-us-east-1-730335220874, key: trellis-dataset/trellis_assessment_ds.zip.\n",
      "2024-05-17 17:42:50,768 - INFO - Extracting zip file.\n",
      "2024-05-17 17:42:50,959 - INFO - Preparing to read text files.\n",
      "Processing files: 0it [00:00, ?it/s]\n",
      "Processing files: 100%|██████████| 100/100 [00:00<00:00, 52765.18it/s]\n",
      "Processing files: 100%|██████████| 100/100 [00:00<00:00, 52226.42it/s]\n",
      "Processing files: 100%|██████████| 100/100 [00:00<00:00, 45032.25it/s]\n",
      "Processing files: 100%|██████████| 100/100 [00:00<00:00, 50279.36it/s]\n",
      "Processing files: 100%|██████████| 100/100 [00:00<00:00, 25550.10it/s]\n",
      "Processing files: 100%|██████████| 100/100 [00:00<00:00, 47902.06it/s]\n",
      "Processing files: 100%|██████████| 100/100 [00:00<00:00, 49142.40it/s]\n",
      "Processing files: 100%|██████████| 100/100 [00:00<00:00, 48827.75it/s]\n",
      "Processing files: 100%|██████████| 100/100 [00:00<00:00, 49182.74it/s]\n",
      "Processing files: 100%|██████████| 100/100 [00:00<00:00, 47511.37it/s]\n",
      "Processing files: 100%|██████████| 6/6 [00:00<00:00, 13224.29it/s]\n",
      "2024-05-17 17:42:51,003 - INFO - Creating DataFrame.\n",
      "2024-05-17 17:42:51,004 - INFO - DataFrame created successfully.\n"
     ]
    }
   ],
   "source": [
    "from tqdm import tqdm #### progress bar\n",
    "\n",
    "# *Function Purpose**: The `load_data_from_s3` function is designed to download our zip file provided by Trellis (Dropbox) from an S3 bucket,\n",
    "# extract its contents, read text files, and load the data into a pandas DataFrame with appropriate labels.\n",
    "\n",
    "def load_data_from_s3(bucket_name, zip_key, local_dir='/tmp/trellis_dataset'):\n",
    "    \"\"\"\n",
    "    Downloads a zip file from S3, extracts its contents, and loads the text files into a DataFrame.\n",
    "    \n",
    "    Parameters:\n",
    "    - bucket_name (str): The name of the S3 bucket.\n",
    "    - zip_key (str): The key of the zip file in the S3 bucket.\n",
    "    - local_dir (str): The local directory to extract the zip file contents.\n",
    "    \n",
    "    Returns:\n",
    "    - pd.DataFrame: A DataFrame containing the text data and labels.\n",
    "    \"\"\"\n",
    "    # Set up logging\n",
    "    logging.basicConfig(level=logging.INFO, format='%(asctime)s - %(levelname)s - %(message)s')\n",
    "    \n",
    "    try:\n",
    "        logging.info(\"Initializing S3 client.\")\n",
    "        # Initialize S3 client\n",
    "        s3 = boto3.client('s3')\n",
    "        \n",
    "        logging.info(f\"Downloading zip file from S3 bucket: {bucket_name}, key: {zip_key}.\")\n",
    "        # Download the zip file from S3\n",
    "        zip_obj = s3.get_object(Bucket=bucket_name, Key=zip_key)\n",
    "        buffer = BytesIO(zip_obj['Body'].read())\n",
    "        \n",
    "        logging.info(\"Extracting zip file.\")\n",
    "        # Extract the zip file\n",
    "        with zipfile.ZipFile(buffer, 'r') as zip_ref:\n",
    "            zip_ref.extractall(local_dir)\n",
    "        \n",
    "        logging.info(\"Preparing to read text files.\")\n",
    "        # Prepare lists to hold data and labels\n",
    "        data = []\n",
    "        labels = []\n",
    "        \n",
    "        # Walk through the extracted directory\n",
    "        for root, dirs, files in os.walk(local_dir):\n",
    "            for file in tqdm(files, desc=\"Processing files\"):\n",
    "                if file.endswith('.txt'):\n",
    "                    file_path = os.path.join(root, file)\n",
    "                    label = os.path.basename(root)\n",
    "                    \n",
    "                    # Read the content of the text file\n",
    "                    with open(file_path, 'r', encoding='utf-8') as f:\n",
    "                        content = f.read()\n",
    "                    \n",
    "                    # Append the content and label to the lists\n",
    "                    data.append(content)\n",
    "                    labels.append(label)\n",
    "        \n",
    "        logging.info(\"Creating DataFrame.\")\n",
    "        # Create a DataFrame\n",
    "        df = pd.DataFrame({'text': data, 'label': labels})\n",
    "        \n",
    "        logging.info(\"DataFrame created successfully.\")\n",
    "        return df\n",
    "    \n",
    "    except Exception as e:\n",
    "        logging.error(f\"An error occurred: {e}\")\n",
    "        return None\n",
    "\n",
    "# call funcion and load the data\n",
    "bucket_name = 'sagemaker-us-east-1-730335220874'\n",
    "zip_key = 'trellis-dataset/trellis_assessment_ds.zip'\n",
    "df = load_data_from_s3(bucket_name, zip_key)"
   ]
  },
  {
   "cell_type": "code",
   "execution_count": 13,
   "id": "1ffa44eb",
   "metadata": {},
   "outputs": [
    {
     "name": "stdout",
     "output_type": "stream",
     "text": [
      "the records in the data are: 1006\n"
     ]
    }
   ],
   "source": [
    "print(f\"the records in the data are: {df.shape[0]}\")"
   ]
  },
  {
   "cell_type": "code",
   "execution_count": 14,
   "id": "b72847bf",
   "metadata": {},
   "outputs": [
    {
     "name": "stdout",
     "output_type": "stream",
     "text": [
      "<class 'pandas.core.frame.DataFrame'>\n",
      "RangeIndex: 1006 entries, 0 to 1005\n",
      "Data columns (total 2 columns):\n",
      " #   Column  Non-Null Count  Dtype \n",
      "---  ------  --------------  ----- \n",
      " 0   text    1006 non-null   object\n",
      " 1   label   1006 non-null   object\n",
      "dtypes: object(2)\n",
      "memory usage: 15.8+ KB\n"
     ]
    }
   ],
   "source": [
    "df.info()"
   ]
  },
  {
   "cell_type": "code",
   "execution_count": 15,
   "id": "41208a1c",
   "metadata": {},
   "outputs": [],
   "source": [
    "###### Quick exploration of the data ###### "
   ]
  },
  {
   "cell_type": "code",
   "execution_count": 16,
   "id": "e7d81888",
   "metadata": {},
   "outputs": [
    {
     "data": {
      "text/html": [
       "<div>\n",
       "<style scoped>\n",
       "    .dataframe tbody tr th:only-of-type {\n",
       "        vertical-align: middle;\n",
       "    }\n",
       "\n",
       "    .dataframe tbody tr th {\n",
       "        vertical-align: top;\n",
       "    }\n",
       "\n",
       "    .dataframe thead th {\n",
       "        text-align: right;\n",
       "    }\n",
       "</style>\n",
       "<table border=\"1\" class=\"dataframe\">\n",
       "  <thead>\n",
       "    <tr style=\"text-align: right;\">\n",
       "      <th></th>\n",
       "      <th>text</th>\n",
       "      <th>label</th>\n",
       "    </tr>\n",
       "  </thead>\n",
       "  <tbody>\n",
       "    <tr>\n",
       "      <th>0</th>\n",
       "      <td>Lufthansa flies back to profit\\n\\nGerman airline Lufthansa has returned to profit in 2004 after posting huge losses in 2003.\\n\\nIn a preliminary report, the airline announced net profits of 400m e...</td>\n",
       "      <td>business</td>\n",
       "    </tr>\n",
       "    <tr>\n",
       "      <th>1</th>\n",
       "      <td>Winn-Dixie files for bankruptcy\\n\\nUS supermarket group Winn-Dixie has filed for bankruptcy protection after succumbing to stiff competition in a market dominated by Wal-Mart.\\n\\nWinn-Dixie, once ...</td>\n",
       "      <td>business</td>\n",
       "    </tr>\n",
       "  </tbody>\n",
       "</table>\n",
       "</div>"
      ],
      "text/plain": [
       "                                                                                                                                                                                                      text  \\\n",
       "0  Lufthansa flies back to profit\\n\\nGerman airline Lufthansa has returned to profit in 2004 after posting huge losses in 2003.\\n\\nIn a preliminary report, the airline announced net profits of 400m e...   \n",
       "1  Winn-Dixie files for bankruptcy\\n\\nUS supermarket group Winn-Dixie has filed for bankruptcy protection after succumbing to stiff competition in a market dominated by Wal-Mart.\\n\\nWinn-Dixie, once ...   \n",
       "\n",
       "      label  \n",
       "0  business  \n",
       "1  business  "
      ]
     },
     "metadata": {},
     "output_type": "display_data"
    }
   ],
   "source": [
    "from pandas import option_context\n",
    "\n",
    "with option_context('display.max_rows', None,'display.max_colwidth',200,'display.max_columns',90):\n",
    "              display(df.head(2))"
   ]
  },
  {
   "cell_type": "code",
   "execution_count": 17,
   "id": "298de8b2",
   "metadata": {},
   "outputs": [
    {
     "data": {
      "text/html": [
       "<div>\n",
       "<style scoped>\n",
       "    .dataframe tbody tr th:only-of-type {\n",
       "        vertical-align: middle;\n",
       "    }\n",
       "\n",
       "    .dataframe tbody tr th {\n",
       "        vertical-align: top;\n",
       "    }\n",
       "\n",
       "    .dataframe thead th {\n",
       "        text-align: right;\n",
       "    }\n",
       "</style>\n",
       "<table border=\"1\" class=\"dataframe\">\n",
       "  <thead>\n",
       "    <tr style=\"text-align: right;\">\n",
       "      <th></th>\n",
       "      <th>text</th>\n",
       "      <th>label</th>\n",
       "    </tr>\n",
       "  </thead>\n",
       "  <tbody>\n",
       "    <tr>\n",
       "      <th>1004</th>\n",
       "      <td>In an inspiring display of community spirit, residents of the coastal town of Hampton Shores have launched a large-scale environmental cleanup initiative aimed at restoring the natural beauty of t...</td>\n",
       "      <td>other</td>\n",
       "    </tr>\n",
       "    <tr>\n",
       "      <th>1005</th>\n",
       "      <td>This is a text with nothing to do with a common topic, this text will be used to test</td>\n",
       "      <td>other</td>\n",
       "    </tr>\n",
       "  </tbody>\n",
       "</table>\n",
       "</div>"
      ],
      "text/plain": [
       "                                                                                                                                                                                                         text  \\\n",
       "1004  In an inspiring display of community spirit, residents of the coastal town of Hampton Shores have launched a large-scale environmental cleanup initiative aimed at restoring the natural beauty of t...   \n",
       "1005                                                                                                                    This is a text with nothing to do with a common topic, this text will be used to test   \n",
       "\n",
       "      label  \n",
       "1004  other  \n",
       "1005  other  "
      ]
     },
     "metadata": {},
     "output_type": "display_data"
    }
   ],
   "source": [
    "from pandas import option_context\n",
    "\n",
    "with option_context('display.max_rows', None,'display.max_colwidth',200,'display.max_columns',90):\n",
    "              display(df.tail(2))"
   ]
  },
  {
   "cell_type": "code",
   "execution_count": 18,
   "id": "1899ffdf",
   "metadata": {},
   "outputs": [
    {
     "data": {
      "text/plain": [
       "0                                                  Lufthansa flies back to profit\\n\\nGerman airline Lufthansa has returned to profit in 2004 after posting huge losses in 2003.\\n\\nIn a preliminary report, the airline announced net profits of 400m euros ($527.61m; £274.73m), compared with a loss of 984m euros in 2003. Operating profits were at 380m euros, ten times more than in 2003. Lufthansa was hit in 2003 by tough competition and a dip in demand following the Iraq war and the killer SARS virus. It was also hit by troubles at its US catering business. Last year, Lufthansa showed signs of recovery even as some European and US airlines were teetering on the brink of bankruptcy. The board of Lufthansa has recommended paying a 2004 dividend of 0.30 euros per share. In 2003, shareholders did not get a dividend. The company said that it will give all the details of its 2004 results on 23 March.\\n\n",
       "1    Winn-Dixie files for bankruptcy\\n\\nUS supermarket group Winn-Dixie has filed for bankruptcy protection after succumbing to stiff competition in a market dominated by Wal-Mart.\\n\\nWinn-Dixie, once among the most profitable of US grocers, said Chapter 11 protection would enable it to successfully restructure. It said its 920 stores would remain open, but analysts said it would most likely off-load a number of sites. The Jacksonville, Florida-based firm has total debts of $1.87bn (£980m). In its bankruptcy petition it listed its biggest creditor as US foods giant Kraft Foods, which it owes $15.1m.\\n\\nAnalysts say Winn-Dixie had not kept up with consumers' demands and had also been burdened by a number of stores in need of upgrading. A 10-month restructuring plan was deemed a failure, and following a larger-than-expected quarterly loss earlier this month, Winn-Dixie's slide into bankrupt...\n",
       "2    US economy still growing says Fed\\n\\nMost areas of the US saw their economy continue to expand in December and early January, the US Federal Reserve said in its latest Beige Book report.\\n\\nOf the 12 US regions it identifies for the study, 11 showed stronger economic growth, with only the Cleveland area falling behind with a \"mixed\" rating. Consumer spending was higher in December than November, and festive sales were also up on 2003. The employment picture also improved, the Fed said.\\n\\n\"Labour markets firmed in a number of districts, but wage pressures generally remained modest,\" the Beige Book said. \"Several districts reported higher prices for building materials and manufacturing inputs, but most reported steady or only slightly higher overall price levels.\" The report added that residential real estate activity remained strong and that commercial real estate activity strengthen...\n",
       "Name: text, dtype: object"
      ]
     },
     "metadata": {},
     "output_type": "display_data"
    }
   ],
   "source": [
    "from pandas import option_context\n",
    "\n",
    "with option_context('display.max_rows', None,'display.max_colwidth',900,'display.max_columns',90):\n",
    "              display(df.text.head(3))"
   ]
  },
  {
   "cell_type": "code",
   "execution_count": 19,
   "id": "6d16c333",
   "metadata": {},
   "outputs": [
    {
     "data": {
      "text/plain": [
       "0    business\n",
       "1    business\n",
       "2    business\n",
       "Name: label, dtype: object"
      ]
     },
     "metadata": {},
     "output_type": "display_data"
    }
   ],
   "source": [
    "from pandas import option_context\n",
    "\n",
    "with option_context('display.max_rows', None,'display.max_colwidth',200,'display.max_columns',90):\n",
    "              display(df.label.head(3))"
   ]
  },
  {
   "cell_type": "code",
   "execution_count": 20,
   "id": "addd8d7d",
   "metadata": {},
   "outputs": [],
   "source": [
    "###### proportion target class ###### "
   ]
  },
  {
   "cell_type": "code",
   "execution_count": 21,
   "id": "d63e8611",
   "metadata": {},
   "outputs": [
    {
     "data": {
      "text/plain": [
       "label\n",
       "business         100\n",
       "entertainment    100\n",
       "food             100\n",
       "graphics         100\n",
       "historical       100\n",
       "medical          100\n",
       "politics         100\n",
       "space            100\n",
       "sport            100\n",
       "technologie      100\n",
       "other              6\n",
       "Name: count, dtype: int64"
      ]
     },
     "execution_count": 21,
     "metadata": {},
     "output_type": "execute_result"
    }
   ],
   "source": [
    "df['label'].value_counts(normalize=False) "
   ]
  },
  {
   "cell_type": "code",
   "execution_count": 22,
   "id": "50e6385a",
   "metadata": {},
   "outputs": [
    {
     "data": {
      "image/png": "[encoded data removed]",
      "text/plain": [
       "<Figure size 1000x600 with 1 Axes>"
      ]
     },
     "metadata": {},
     "output_type": "display_data"
    }
   ],
   "source": [
    "import seaborn as sns\n",
    "import matplotlib.pyplot as plt\n",
    "\n",
    "\n",
    "def plot_label_proportions_seaborn(df, column_name, bar_width=0.8):\n",
    "    \"\"\"\n",
    "    Calculates the percentages of each unique label in the specified column of a DataFrame,\n",
    "    and plots the proportions of labels in the dataset using a combination of Seaborn and Matplotlib\n",
    "    for a comprehensive visualization. Allows customization of the bar width.\n",
    "\n",
    "    Parameters:\n",
    "    - df: pandas.DataFrame. The DataFrame containing the label data.\n",
    "    - column_name: str. The name of the column containing the label information.\n",
    "    - bar_width: float, optional. The width of the bars in the plot. Default is 0.8.\n",
    "    \"\"\"\n",
    "    # Count the occurrences of each unique label and calculate percentages\n",
    "    label_counts = df[column_name].value_counts(normalize=True).reset_index()\n",
    "    label_counts.columns = ['Label', 'Percentage']\n",
    "    label_counts['Percentage'] *= 100  # Convert to percentages\n",
    "\n",
    "    # Plotting\n",
    "    plt.figure(figsize=(10, 6))\n",
    "    sns.set_style(\"whitegrid\")\n",
    "    \n",
    "    # Remove the grid inside the plot\n",
    "    sns.despine(left=True, bottom=True)\n",
    "    \n",
    "    # Create a vertical bar plot\n",
    "    plt.bar(label_counts['Label'], label_counts['Percentage'], \n",
    "            color=sns.color_palette(\"tab10\", len(label_counts)), width=bar_width)\n",
    "    \n",
    "    plt.title('Proportion of Labels in the  Trellis Dataset (%)')\n",
    "    plt.ylabel('Percentage')\n",
    "    plt.xlabel('Label')\n",
    "\n",
    "    # Adding annotations to each bar for better readability\n",
    "    for index, value in enumerate(label_counts['Percentage']):\n",
    "        plt.text(index, value, f\"{value:.2f}%\", ha='center', va='bottom')\n",
    "\n",
    "    plt.tight_layout()  # Adjust layout to make room for the annotations\n",
    "    plt.show()\n",
    "    \n",
    "#### call function on label colum\n",
    "plot_label_proportions_seaborn(df, 'label', bar_width=0.5)"
   ]
  },
  {
   "cell_type": "code",
   "execution_count": 23,
   "id": "ffb9fe2b",
   "metadata": {},
   "outputs": [],
   "source": [
    "###### Check number of tokens for row along with min / max ###### "
   ]
  },
  {
   "cell_type": "code",
   "execution_count": 24,
   "id": "aabb7e8a",
   "metadata": {},
   "outputs": [
    {
     "name": "stderr",
     "output_type": "stream",
     "text": [
      "100%|██████████| 1006/1006 [00:00<00:00, 2574.62it/s]\n"
     ]
    }
   ],
   "source": [
    "import tiktoken\n",
    "\n",
    "encoding = tiktoken.encoding_for_model(\"gpt-4-turbo\")\n",
    "\n",
    "# Define the function\n",
    "def num_tokens_from_string(string: str) -> int:\n",
    "    \"\"\"Returns the number of tokens in a text string.\"\"\"\n",
    "    encoding = tiktoken.encoding_for_model(\"gpt-4-turbo-preview\")\n",
    "    num_tokens = len(encoding.encode(string))\n",
    "    return num_tokens\n",
    "\n",
    "from tqdm import tqdm\n",
    "tqdm.pandas()\n",
    "\n",
    "# Apply the function to the text column to count number of tokens on text \n",
    "df['text_token_count'] = df['text'].progress_apply(num_tokens_from_string)"
   ]
  },
  {
   "cell_type": "code",
   "execution_count": 25,
   "id": "ef600253",
   "metadata": {},
   "outputs": [
    {
     "name": "stdout",
     "output_type": "stream",
     "text": [
      "0.020       90.300\n",
      "0.050      133.000\n",
      "0.100      177.000\n",
      "0.200      228.000\n",
      "0.250      247.250\n",
      "0.500      357.000\n",
      "0.600      414.000\n",
      "0.750      553.500\n",
      "0.800      615.000\n",
      "0.900      971.000\n",
      "0.950     1634.500\n",
      "0.960     1957.200\n",
      "0.965     2153.375\n",
      "0.970     2382.500\n",
      "0.975     2550.875\n",
      "0.985     3235.225\n",
      "0.990     4865.800\n",
      "1.000    14498.000\n",
      "Name: text_token_count, dtype: float64\n"
     ]
    }
   ],
   "source": [
    "# Function to get quantiles\n",
    "def get_quantiles(df, column):\n",
    "    quantiles = df[column].quantile([0.02 ,0.05,.10,.20,.25, .5, 0.60,.75, 0.80, .90, 0.95,0.96,0.965,\n",
    "                                     0.97,0.975, 0.985, 0.99, 1])\n",
    "    return quantiles\n",
    "\n",
    "\n",
    "print(get_quantiles(df, 'text_token_count'))"
   ]
  },
  {
   "cell_type": "code",
   "execution_count": 27,
   "id": "1c9159b8",
   "metadata": {},
   "outputs": [],
   "source": [
    "###### quick preprocessing / context lenght | remove HTML etc ###### "
   ]
  },
  {
   "cell_type": "code",
   "execution_count": 28,
   "id": "048a8388",
   "metadata": {},
   "outputs": [],
   "source": [
    "import re\n",
    "from html import unescape\n",
    "from typing import Optional"
   ]
  },
  {
   "cell_type": "code",
   "execution_count": 29,
   "id": "2b4a10eb",
   "metadata": {},
   "outputs": [],
   "source": [
    "def clean_short_or_empty_records(df: pd.DataFrame, column_name: str) -> Optional[pd.DataFrame]:\n",
    "    \"\"\"\n",
    "    Removes rows from the DataFrame where the specified column text contains NaN values, empty strings,\n",
    "    or strings with fewer than 10 characters.\n",
    "\n",
    "    Args:\n",
    "        df (pd.DataFrame): The DataFrame containing the text data.\n",
    "        column_name (str): The name of the column to be cleaned.\n",
    "\n",
    "    Returns:\n",
    "        pd.DataFrame: The cleaned DataFrame with short or empty records removed, or None if an error occurred.\n",
    "    \"\"\"\n",
    "    try:\n",
    "        if df is None:\n",
    "            raise ValueError(\"The input DataFrame is None.\")\n",
    "        \n",
    "        if column_name not in df.columns:\n",
    "            raise ValueError(f\"Column '{column_name}' not found in DataFrame.\")\n",
    "        \n",
    "        # Remove rows with NaN values in the specified column\n",
    "        df = df.dropna(subset=[column_name])\n",
    "        \n",
    "        # Remove rows with empty strings or strings with fewer than 10 characters\n",
    "        df = df[df[column_name].apply(lambda x: isinstance(x, str) and len(x.strip()) >= 10)]\n",
    "        \n",
    "        return df\n",
    "    except Exception as e:\n",
    "        logging.error(f\"An error occurred while cleaning short or empty records: {e}\")\n",
    "        return None\n",
    "\n",
    "\n",
    "# call function over text column clean_short_or_empty_records\n",
    "df = clean_short_or_empty_records(df, 'text')"
   ]
  },
  {
   "cell_type": "code",
   "execution_count": 30,
   "id": "e27726fd",
   "metadata": {},
   "outputs": [
    {
     "name": "stdout",
     "output_type": "stream",
     "text": [
      "The number of rows in the current dataset df are: 1006\n"
     ]
    }
   ],
   "source": [
    "print(f\"The number of rows in the current dataset df are: {df.shape[0]}\")"
   ]
  },
  {
   "cell_type": "code",
   "execution_count": 31,
   "id": "abc286d1",
   "metadata": {},
   "outputs": [],
   "source": [
    "def clean_text_content_trellis(text_content: str) -> str:\n",
    "    \"\"\"\n",
    "    Cleans text content of  document text by performing several operations:\n",
    "    - Normalizes line breaks to Unix-style.\n",
    "    - Removes excessive whitespace within lines.\n",
    "    - Strips HTML tags and decodes HTML entities.\n",
    "    - Normalizes paragraph breaks to ensure readability.\n",
    "\n",
    "    Args:\n",
    "        text_content (str): The raw text content to be cleaned.\n",
    "\n",
    "    Returns:\n",
    "        str: The cleaned text content.\n",
    "    \"\"\"\n",
    "    try:\n",
    "        # Normalize line breaks to Unix-style\n",
    "        text_content = re.sub(r'\\r\\n|\\r', '\\n', text_content)\n",
    "        \n",
    "        # Remove excessive whitespace within lines\n",
    "        text_content = re.sub(r'\\s+', ' ', text_content).strip()\n",
    "        \n",
    "        # Strip HTML tags and decode HTML entities\n",
    "        text_content = re.sub(r'<[^>]+>', '', text_content, flags=re.DOTALL)\n",
    "        text_content = unescape(text_content)\n",
    "        \n",
    "        # Normalize paragraph breaks to ensure readability\n",
    "        text_content = re.sub(r'\\n{3,}', '\\n\\n', text_content)\n",
    "        \n",
    "        return text_content\n",
    "    except Exception as e:\n",
    "        logging.error(f\"An error occurred while cleaning the text content: {e}\")\n",
    "        return \"\"\n",
    "\n",
    "def preprocess_text_column(df: pd.DataFrame, column_name: str) -> Optional[pd.DataFrame]:\n",
    "    \"\"\"\n",
    "    Applies a series of preprocessing steps to clean and normalize the text content in a specified text articles column of a DataFrame.\n",
    "\n",
    "    Args:\n",
    "        df (pd.DataFrame): The DataFrame containing the text data.\n",
    "        column_name (str): The name of the column containing the text content.\n",
    "\n",
    "    Returns:\n",
    "        pd.DataFrame: The DataFrame with the cleaned text content, or None if an error occurred.\n",
    "    \"\"\"\n",
    "    try:\n",
    "        if column_name not in df.columns:\n",
    "            raise ValueError(f\"Column '{column_name}' not found in DataFrame.\")\n",
    "        \n",
    "        df[column_name] = df[column_name].apply(clean_text_content_trellis)\n",
    "        return df\n",
    "    except Exception as e:\n",
    "        logging.error(f\"An error occurred while preprocessing the text column: {e}\")\n",
    "        return None\n",
    "\n",
    "# call function over text column\n",
    "df = preprocess_text_column(df, 'text')"
   ]
  },
  {
   "cell_type": "code",
   "execution_count": 32,
   "id": "899bf536",
   "metadata": {},
   "outputs": [
    {
     "name": "stdout",
     "output_type": "stream",
     "text": [
      "The number of rows in the current dataset df are: 1006\n"
     ]
    }
   ],
   "source": [
    "print(f\"The number of rows in the current dataset df are: {df.shape[0]}\")"
   ]
  },
  {
   "cell_type": "code",
   "execution_count": 33,
   "id": "bd3bda36",
   "metadata": {},
   "outputs": [
    {
     "data": {
      "text/html": [
       "<div>\n",
       "<style scoped>\n",
       "    .dataframe tbody tr th:only-of-type {\n",
       "        vertical-align: middle;\n",
       "    }\n",
       "\n",
       "    .dataframe tbody tr th {\n",
       "        vertical-align: top;\n",
       "    }\n",
       "\n",
       "    .dataframe thead th {\n",
       "        text-align: right;\n",
       "    }\n",
       "</style>\n",
       "<table border=\"1\" class=\"dataframe\">\n",
       "  <thead>\n",
       "    <tr style=\"text-align: right;\">\n",
       "      <th></th>\n",
       "      <th>text</th>\n",
       "    </tr>\n",
       "  </thead>\n",
       "  <tbody>\n",
       "    <tr>\n",
       "      <th>0</th>\n",
       "      <td>Lufthansa flies back to profit German airline Lufthansa has returned to profit in 2004 after posting huge losses in 2003. In a preliminary report, the airline announced net profits of 400m euros (...</td>\n",
       "    </tr>\n",
       "    <tr>\n",
       "      <th>1</th>\n",
       "      <td>Winn-Dixie files for bankruptcy US supermarket group Winn-Dixie has filed for bankruptcy protection after succumbing to stiff competition in a market dominated by Wal-Mart. Winn-Dixie, once among ...</td>\n",
       "    </tr>\n",
       "  </tbody>\n",
       "</table>\n",
       "</div>"
      ],
      "text/plain": [
       "                                                                                                                                                                                                      text\n",
       "0  Lufthansa flies back to profit German airline Lufthansa has returned to profit in 2004 after posting huge losses in 2003. In a preliminary report, the airline announced net profits of 400m euros (...\n",
       "1  Winn-Dixie files for bankruptcy US supermarket group Winn-Dixie has filed for bankruptcy protection after succumbing to stiff competition in a market dominated by Wal-Mart. Winn-Dixie, once among ..."
      ]
     },
     "metadata": {},
     "output_type": "display_data"
    }
   ],
   "source": [
    "from pandas import option_context\n",
    "\n",
    "with option_context('display.max_rows', None,'display.max_colwidth',200,'display.max_columns',80):\n",
    "        display(df[['text']].head(2))"
   ]
  },
  {
   "cell_type": "code",
   "execution_count": 34,
   "id": "0ea1df1f",
   "metadata": {
    "scrolled": true
   },
   "outputs": [
    {
     "name": "stderr",
     "output_type": "stream",
     "text": [
      "100%|██████████| 1006/1006 [00:00<00:00, 2867.14it/s]\n"
     ]
    }
   ],
   "source": [
    "# Apply the function to the 'turn_by_turn_transcript' column\n",
    "df['text_token_count'] = df['text'].progress_apply(num_tokens_from_string)"
   ]
  },
  {
   "cell_type": "code",
   "execution_count": 35,
   "id": "f87838f5",
   "metadata": {},
   "outputs": [
    {
     "name": "stdout",
     "output_type": "stream",
     "text": [
      "0.020       81.000\n",
      "0.050      120.000\n",
      "0.100      162.000\n",
      "0.200      214.000\n",
      "0.250      235.000\n",
      "0.500      346.500\n",
      "0.600      405.000\n",
      "0.750      541.750\n",
      "0.800      608.000\n",
      "0.900      942.000\n",
      "0.950     1573.500\n",
      "0.960     1883.000\n",
      "0.965     2051.300\n",
      "0.970     2195.400\n",
      "0.975     2392.625\n",
      "0.985     2963.900\n",
      "0.990     4230.450\n",
      "1.000    12736.000\n",
      "Name: text_token_count, dtype: float64\n"
     ]
    }
   ],
   "source": [
    "print(get_quantiles(df, 'text_token_count'))"
   ]
  },
  {
   "cell_type": "code",
   "execution_count": 36,
   "id": "8d8365e4",
   "metadata": {},
   "outputs": [],
   "source": [
    "###### remove token count data ###### "
   ]
  },
  {
   "cell_type": "code",
   "execution_count": 37,
   "id": "cb8fda0a",
   "metadata": {},
   "outputs": [],
   "source": [
    "def filter_by_token_count(df, column='token_count', max_token_count=1024):\n",
    "    # Filter the DataFrame based on the token count\n",
    "    filtered_df = df[df[column] <= max_token_count]\n",
    "\n",
    "    # Reset the index of the filtered DataFrame\n",
    "    filtered_df.reset_index(drop=True, inplace=True)\n",
    "\n",
    "    return filtered_df\n",
    "\n",
    "# call function \n",
    "new_df = filter_by_token_count(df, 'text_token_count', max_token_count=1024)"
   ]
  },
  {
   "cell_type": "code",
   "execution_count": 38,
   "id": "f0b16da2",
   "metadata": {},
   "outputs": [
    {
     "name": "stdout",
     "output_type": "stream",
     "text": [
      "The number of rows in the current dataset df are: 915\n"
     ]
    }
   ],
   "source": [
    "print(f\"The number of rows in the current dataset df are: {new_df.shape[0]}\")"
   ]
  },
  {
   "cell_type": "code",
   "execution_count": 41,
   "id": "b0e56b02",
   "metadata": {},
   "outputs": [
    {
     "name": "stdout",
     "output_type": "stream",
     "text": [
      "The number of rows in the current dataset df are: 915\n"
     ]
    }
   ],
   "source": [
    "print(f\"The number of rows in the current dataset df are: {new_df.shape[0]}\")"
   ]
  },
  {
   "cell_type": "code",
   "execution_count": 42,
   "id": "6929e72c",
   "metadata": {},
   "outputs": [
    {
     "data": {
      "image/png": "[encoded data removed]",
      "text/plain": [
       "<Figure size 1000x600 with 1 Axes>"
      ]
     },
     "metadata": {},
     "output_type": "display_data"
    }
   ],
   "source": [
    "#### call function on label colum\n",
    "plot_label_proportions_seaborn(new_df, 'label', bar_width=0.5)"
   ]
  },
  {
   "cell_type": "code",
   "execution_count": 40,
   "id": "506b55c3",
   "metadata": {},
   "outputs": [],
   "source": [
    "######### encode labels  #########"
   ]
  },
  {
   "cell_type": "code",
   "execution_count": 43,
   "id": "24b3eaf7",
   "metadata": {},
   "outputs": [
    {
     "data": {
      "text/html": [
       "<div>\n",
       "<style scoped>\n",
       "    .dataframe tbody tr th:only-of-type {\n",
       "        vertical-align: middle;\n",
       "    }\n",
       "\n",
       "    .dataframe tbody tr th {\n",
       "        vertical-align: top;\n",
       "    }\n",
       "\n",
       "    .dataframe thead th {\n",
       "        text-align: right;\n",
       "    }\n",
       "</style>\n",
       "<table border=\"1\" class=\"dataframe\">\n",
       "  <thead>\n",
       "    <tr style=\"text-align: right;\">\n",
       "      <th></th>\n",
       "      <th>text</th>\n",
       "      <th>label</th>\n",
       "      <th>text_token_count</th>\n",
       "    </tr>\n",
       "  </thead>\n",
       "  <tbody>\n",
       "    <tr>\n",
       "      <th>0</th>\n",
       "      <td>Lufthansa flies back to profit German airline Lufthansa has returned to profit in 2004 after posting huge losses in 2003. In a preliminary report, the airline announced net profits of 400m euros (...</td>\n",
       "      <td>business</td>\n",
       "      <td>216</td>\n",
       "    </tr>\n",
       "    <tr>\n",
       "      <th>1</th>\n",
       "      <td>Winn-Dixie files for bankruptcy US supermarket group Winn-Dixie has filed for bankruptcy protection after succumbing to stiff competition in a market dominated by Wal-Mart. Winn-Dixie, once among ...</td>\n",
       "      <td>business</td>\n",
       "      <td>331</td>\n",
       "    </tr>\n",
       "  </tbody>\n",
       "</table>\n",
       "</div>"
      ],
      "text/plain": [
       "                                                                                                                                                                                                      text  \\\n",
       "0  Lufthansa flies back to profit German airline Lufthansa has returned to profit in 2004 after posting huge losses in 2003. In a preliminary report, the airline announced net profits of 400m euros (...   \n",
       "1  Winn-Dixie files for bankruptcy US supermarket group Winn-Dixie has filed for bankruptcy protection after succumbing to stiff competition in a market dominated by Wal-Mart. Winn-Dixie, once among ...   \n",
       "\n",
       "      label  text_token_count  \n",
       "0  business               216  \n",
       "1  business               331  "
      ]
     },
     "metadata": {},
     "output_type": "display_data"
    }
   ],
   "source": [
    "from pandas import option_context\n",
    "\n",
    "with option_context('display.max_rows', None,'display.max_colwidth',200,'display.max_columns',80):\n",
    "        display(new_df.head(2))"
   ]
  },
  {
   "cell_type": "code",
   "execution_count": 44,
   "id": "2789f590",
   "metadata": {},
   "outputs": [
    {
     "data": {
      "text/plain": [
       "array(['business', 'entertainment', 'food', 'graphics', 'historical',\n",
       "       'medical', 'politics', 'space', 'sport', 'technologie', 'other'],\n",
       "      dtype=object)"
      ]
     },
     "execution_count": 44,
     "metadata": {},
     "output_type": "execute_result"
    }
   ],
   "source": [
    "new_df.label.unique()"
   ]
  },
  {
   "cell_type": "code",
   "execution_count": 45,
   "id": "3c68eae0",
   "metadata": {},
   "outputs": [
    {
     "name": "stderr",
     "output_type": "stream",
     "text": [
      "/tmp/ipykernel_15704/3649072570.py:26: SettingWithCopyWarning: \n",
      "A value is trying to be set on a copy of a slice from a DataFrame.\n",
      "Try using .loc[row_indexer,col_indexer] = value instead\n",
      "\n",
      "See the caveats in the documentation: https://pandas.pydata.org/pandas-docs/stable/user_guide/indexing.html#returning-a-view-versus-a-copy\n",
      "  df[new_column_name] = label_encoder.fit_transform(df[column_name])\n",
      "2024-05-17 17:44:10,459 - INFO - Label encoding mapping: {'business': 0, 'entertainment': 1, 'food': 2, 'graphics': 3, 'historical': 4, 'medical': 5, 'other': 6, 'politics': 7, 'space': 8, 'sport': 9, 'technologie': 10}\n"
     ]
    }
   ],
   "source": [
    "from sklearn.preprocessing import LabelEncoder\n",
    "from typing import Tuple\n",
    "\n",
    "def encode_labels(df: pd.DataFrame, column_name: str, new_column_name: str) -> Tuple[Optional[pd.DataFrame], Optional[dict]]:\n",
    "    \"\"\"\n",
    "    Encodes the labels in the specified column of the DataFrame from 0 to n, where n is the number of unique labels minus one,\n",
    "    and adds the encoded labels as a new column. Also returns a dictionary mapping original labels to encoded values.\n",
    "\n",
    "    Args:\n",
    "        df (pd.DataFrame): The DataFrame containing the label data.\n",
    "        column_name (str): The name of the column containing the labels to be encoded.\n",
    "        new_column_name (str): The name of the new column to store the encoded labels.\n",
    "\n",
    "    Returns:\n",
    "        Tuple[pd.DataFrame, dict]: The DataFrame with the encoded labels and the dictionary mapping original labels to encoded values,\n",
    "                                   or (None, None) if an error occurred.\n",
    "    \"\"\"\n",
    "    try:\n",
    "        if column_name not in df.columns:\n",
    "            raise ValueError(f\"Column '{column_name}' not found in DataFrame.\")\n",
    "        \n",
    "        # Initialize the LabelEncoder\n",
    "        label_encoder = LabelEncoder()\n",
    "        \n",
    "        # Fit and transform the labels\n",
    "        df[new_column_name] = label_encoder.fit_transform(df[column_name])\n",
    "        \n",
    "        # Create a dictionary mapping original labels to encoded values\n",
    "        label_mapping = dict(zip(label_encoder.classes_, label_encoder.transform(label_encoder.classes_)))\n",
    "        logging.info(f\"Label encoding mapping: {label_mapping}\")\n",
    "        \n",
    "        return df, label_mapping\n",
    "    except Exception as e:\n",
    "        logging.error(f\"An error occurred while encoding labels: {e}\")\n",
    "        return None, None\n",
    "\n",
    "# call function\n",
    "new_df, label_mapping = encode_labels(new_df, 'label', 'encoded_label')"
   ]
  },
  {
   "cell_type": "code",
   "execution_count": 51,
   "id": "9130ea61",
   "metadata": {},
   "outputs": [
    {
     "name": "stdout",
     "output_type": "stream",
     "text": [
      "Label encoding mapping: {'business': 0, 'entertainment': 1, 'food': 2, 'graphics': 3, 'historical': 4, 'medical': 5, \n",
      "'other': 6, 'politics': 7, 'space': 8, 'sport': 9, 'technologie': 10}}\n"
     ]
    }
   ],
   "source": [
    "print(\"\"\"Label encoding mapping: {'business': 0, 'entertainment': 1, 'food': 2, 'graphics': 3, 'historical': 4, 'medical': 5, \n",
    "'other': 6, 'politics': 7, 'space': 8, 'sport': 9, 'technologie': 10}}\"\"\".strip())"
   ]
  },
  {
   "cell_type": "code",
   "execution_count": 47,
   "id": "c6ac1ec5",
   "metadata": {},
   "outputs": [
    {
     "data": {
      "text/html": [
       "<div>\n",
       "<style scoped>\n",
       "    .dataframe tbody tr th:only-of-type {\n",
       "        vertical-align: middle;\n",
       "    }\n",
       "\n",
       "    .dataframe tbody tr th {\n",
       "        vertical-align: top;\n",
       "    }\n",
       "\n",
       "    .dataframe thead th {\n",
       "        text-align: right;\n",
       "    }\n",
       "</style>\n",
       "<table border=\"1\" class=\"dataframe\">\n",
       "  <thead>\n",
       "    <tr style=\"text-align: right;\">\n",
       "      <th></th>\n",
       "      <th>text</th>\n",
       "      <th>label</th>\n",
       "      <th>text_token_count</th>\n",
       "      <th>encoded_label</th>\n",
       "    </tr>\n",
       "  </thead>\n",
       "  <tbody>\n",
       "    <tr>\n",
       "      <th>0</th>\n",
       "      <td>Lufthansa flies back to profit German airline Lufthansa has returned to profit in 2004 after posting huge losses in 2003. In a preliminary report, the airline announced net profits of 400m euros (...</td>\n",
       "      <td>business</td>\n",
       "      <td>216</td>\n",
       "      <td>0</td>\n",
       "    </tr>\n",
       "    <tr>\n",
       "      <th>1</th>\n",
       "      <td>Winn-Dixie files for bankruptcy US supermarket group Winn-Dixie has filed for bankruptcy protection after succumbing to stiff competition in a market dominated by Wal-Mart. Winn-Dixie, once among ...</td>\n",
       "      <td>business</td>\n",
       "      <td>331</td>\n",
       "      <td>0</td>\n",
       "    </tr>\n",
       "  </tbody>\n",
       "</table>\n",
       "</div>"
      ],
      "text/plain": [
       "                                                                                                                                                                                                      text  \\\n",
       "0  Lufthansa flies back to profit German airline Lufthansa has returned to profit in 2004 after posting huge losses in 2003. In a preliminary report, the airline announced net profits of 400m euros (...   \n",
       "1  Winn-Dixie files for bankruptcy US supermarket group Winn-Dixie has filed for bankruptcy protection after succumbing to stiff competition in a market dominated by Wal-Mart. Winn-Dixie, once among ...   \n",
       "\n",
       "      label  text_token_count  encoded_label  \n",
       "0  business               216              0  \n",
       "1  business               331              0  "
      ]
     },
     "metadata": {},
     "output_type": "display_data"
    }
   ],
   "source": [
    "from pandas import option_context\n",
    "\n",
    "with option_context('display.max_rows', None,'display.max_colwidth',200,'display.max_columns',80):\n",
    "        display(new_df.head(2))"
   ]
  },
  {
   "cell_type": "code",
   "execution_count": 48,
   "id": "ce0d553c",
   "metadata": {},
   "outputs": [
    {
     "data": {
      "text/plain": [
       "Index(['text', 'label', 'text_token_count', 'encoded_label'], dtype='object')"
      ]
     },
     "execution_count": 48,
     "metadata": {},
     "output_type": "execute_result"
    }
   ],
   "source": [
    "new_df.columns"
   ]
  },
  {
   "cell_type": "code",
   "execution_count": 49,
   "id": "d4f8d9df",
   "metadata": {},
   "outputs": [],
   "source": [
    "####### Save output data #########"
   ]
  },
  {
   "cell_type": "code",
   "execution_count": 49,
   "id": "d1804675",
   "metadata": {},
   "outputs": [
    {
     "name": "stdout",
     "output_type": "stream",
     "text": [
      "Path at terminal when executing this file\n",
      "/home/ec2-user/SageMaker/Trellis\n",
      "\n"
     ]
    }
   ],
   "source": [
    "print(\"Path at terminal when executing this file\")\n",
    "print(os.getcwd() + \"\\n\")"
   ]
  },
  {
   "cell_type": "code",
   "execution_count": 50,
   "id": "f2e548ef",
   "metadata": {},
   "outputs": [
    {
     "name": "stderr",
     "output_type": "stream",
     "text": [
      "2024-05-17 17:44:35,333 - INFO - DataFrame saved to training-data/training_data.csv_2024-05-17.csv\n"
     ]
    }
   ],
   "source": [
    "def save_dataframe(df: pd.DataFrame, columns: list, folder_name: str, base_file_name: str) -> None:\n",
    "    \"\"\"\n",
    "    Saves the specified columns of the DataFrame to a CSV file in the specified folder.\n",
    "    If the folder does not exist, it will be created. The current date is appended to the file name.\n",
    "\n",
    "    Args:\n",
    "        df (pd.DataFrame): The DataFrame containing the data.\n",
    "        columns (list): The list of columns to be saved.\n",
    "        folder_name (str): The name of the folder to save the file in.\n",
    "        base_file_name (str): The base name of the CSV file to save.\n",
    "\n",
    "    Returns:\n",
    "        None\n",
    "    \"\"\"\n",
    "    try:\n",
    "        # Check if the specified columns exist in the DataFrame\n",
    "        for column in columns:\n",
    "            if column not in df.columns:\n",
    "                raise ValueError(f\"Column '{column}' not found in DataFrame.\")\n",
    "        \n",
    "        # Create the folder if it does not exist\n",
    "        if not os.path.exists(folder_name):\n",
    "            os.makedirs(folder_name)\n",
    "            logging.info(f\"Created folder: {folder_name}\")\n",
    "        \n",
    "        # Get the current date and format it\n",
    "        current_date = datetime.now().strftime(\"%Y-%m-%d\")\n",
    "        \n",
    "        # Append the current date to the base file name\n",
    "        file_name = f\"{base_file_name}_{current_date}.csv\"\n",
    "        \n",
    "        # Define the file path\n",
    "        file_path = os.path.join(folder_name, file_name)\n",
    "        \n",
    "        # Save the specified columns of the DataFrame to a CSV file\n",
    "        df.to_csv(file_path, columns=columns, index=False)\n",
    "        logging.info(f\"DataFrame saved to {file_path}\")\n",
    "    \n",
    "    except Exception as e:\n",
    "        logging.error(f\"An error occurred while saving the DataFrame: {e}\")\n",
    "\n",
    "# call function to save training data\n",
    "columns_to_save = ['text', 'label', 'encoded_label']\n",
    "folder_name = 'training-data'\n",
    "file_name = 'training_data.csv'\n",
    "\n",
    "save_dataframe(new_df, columns_to_save, folder_name, file_name)"
   ]
  },
  {
   "cell_type": "code",
   "execution_count": null,
   "id": "eecc94d1",
   "metadata": {},
   "outputs": [],
   "source": []
  }
 ],
 "metadata": {
  "kernelspec": {
   "display_name": "conda_python3",
   "language": "python",
   "name": "conda_python3"
  },
  "language_info": {
   "codemirror_mode": {
    "name": "ipython",
    "version": 3
   },
   "file_extension": ".py",
   "mimetype": "text/x-python",
   "name": "python",
   "nbconvert_exporter": "python",
   "pygments_lexer": "ipython3",
   "version": "3.10.14"
  }
 },
 "nbformat": 4,
 "nbformat_minor": 5
}
